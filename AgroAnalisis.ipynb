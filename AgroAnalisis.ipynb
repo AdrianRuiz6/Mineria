{
  "nbformat": 4,
  "nbformat_minor": 0,
  "metadata": {
    "colab": {
      "provenance": []
    },
    "kernelspec": {
      "name": "python3",
      "display_name": "Python 3"
    },
    "language_info": {
      "name": "python"
    }
  },
  "cells": [
    {
      "cell_type": "markdown",
      "source": [
        "# **AVISO EN CASO DE ERRORES**\n",
        "\n",
        "En caso de que la librería de pandas-profiling de errores de ejecución (lo cual nos ha resultado bastante común), ejecute estas líneas de código y reinicie el entorno de ejecución para que funcione la parte del profiling correctamente en caso de que se quiera ejecutar)."
      ],
      "metadata": {
        "id": "k0eJf8Pwgjvh"
      }
    },
    {
      "cell_type": "code",
      "source": [
        "%%capture\n",
        "!pip uninstall -y pandas-profiling\n",
        "!pip install pandas-profiling"
      ],
      "metadata": {
        "id": "1Ps0HlMBDiQp"
      },
      "execution_count": null,
      "outputs": []
    },
    {
      "cell_type": "markdown",
      "source": [
        "# Descripción del Colab\n",
        "\n",
        "En este Colab se muestran los procesos de limpieza de datos y profiling de los distintos datasets que hemos empleado para el laboratorio de Minería de Datos. \n",
        "\n",
        "La explicación de los procesos realizados para cada dataset se muestran separados a continuacion en este Colab."
      ],
      "metadata": {
        "id": "iet7776hmCPP"
      }
    },
    {
      "cell_type": "markdown",
      "source": [
        "### Librerías empleadas en este fichero"
      ],
      "metadata": {
        "id": "8uwCGdZ9ya-u"
      }
    },
    {
      "cell_type": "code",
      "source": [
        "%%capture\n",
        "!pip install deep_translator"
      ],
      "metadata": {
        "id": "yUyz-gAd4SLv"
      },
      "execution_count": 25,
      "outputs": []
    },
    {
      "cell_type": "code",
      "source": [
        "import numpy as np\n",
        "import pandas as pd\n",
        "from pandas_profiling import ProfileReport\n",
        "from pandas.io.formats.style_render import DataFrame\n",
        "from google.colab import files\n",
        "import io\n",
        "from deep_translator import GoogleTranslator\n",
        "import sys"
      ],
      "metadata": {
        "id": "rBgobnDTFpu1"
      },
      "execution_count": 26,
      "outputs": []
    },
    {
      "cell_type": "markdown",
      "source": [
        "# Carga de datos\n",
        "Ejecución de código para seleccionar los archivos que les hemos otorgado paa subirlos en el Colab."
      ],
      "metadata": {
        "id": "AdJQbemp9EHB"
      }
    },
    {
      "cell_type": "code",
      "source": [
        "uploaded = files.upload()\n",
        "\n",
        "for fn in uploaded.keys():\n",
        "  print('User uploaded file \"{name}\" with length {length} bytes'.format(\n",
        "      name=fn, length=len(uploaded[fn])))"
      ],
      "metadata": {
        "id": "P60cXkU49Lha"
      },
      "execution_count": null,
      "outputs": []
    },
    {
      "cell_type": "markdown",
      "source": [
        "# Dataset 1 - Ventas y precios nacionales\n",
        "Ahora vamos a cargar los datos en el dataframe llamado \"dataframe_1\"."
      ],
      "metadata": {
        "id": "NVLv1MLe84Zo"
      }
    },
    {
      "cell_type": "code",
      "source": [
        "dataframe_1 = pd.read_csv(\"Dataset1.- DatosConsumoAlimentarioMAPAporCCAA.txt\", sep=\"|\")"
      ],
      "metadata": {
        "id": "6a_YGGhw9_DB"
      },
      "execution_count": 129,
      "outputs": []
    },
    {
      "cell_type": "markdown",
      "source": [
        "## Limpieza de columnas\n",
        "\n",
        "Aquí vamos a eliminar las columnas que no nos aportan nada para nuestro objetivo, que en este caso sería ver el precio de unos productos y el consumo de estos en España. En este caso sólo vamos a querer las columnas \"Año\", \"Mes\", \"CCAA\" (esta la eliminaremos después porque la necesitamos para algo antes), \"Producto\", \"Precio medio kg\" y \"Consumo per capita\"."
      ],
      "metadata": {
        "id": "PyDSx_oy-kAn"
      }
    },
    {
      "cell_type": "code",
      "source": [
        "del dataframe_1[\"Penetración (%)\"]\n",
        "del dataframe_1[\"Valor (miles de €)\"]\n",
        "del dataframe_1[\"Gasto per capita\"]\n",
        "del dataframe_1[\"Volumen (miles de kg)\"]\n",
        "del dataframe_1[\"Unnamed: 10\"]\n",
        "del dataframe_1[\"Unnamed: 11\"]"
      ],
      "metadata": {
        "id": "mQmyDg-i-peC"
      },
      "execution_count": 119,
      "outputs": []
    },
    {
      "cell_type": "markdown",
      "source": [
        "Aquí cambiamos el nombre de las columnas \"Precio medio kg\" y \"Consumo per capita\" para reemplazarle los espacios del nombre por \"_\". Esto es para manipular los datos de forma más comoda en adelante."
      ],
      "metadata": {
        "id": "9gJ4qMGZ_icz"
      }
    },
    {
      "cell_type": "code",
      "source": [
        "dataframe_1.rename({'Precio medio kg': 'Precio_medio_kg'}, axis=1, inplace=True)\n",
        "dataframe_1.rename({'Consumo per capita': 'Consumo_per_capita'}, axis=1, inplace=True)\n",
        "\n",
        "dataframe_1.head()"
      ],
      "metadata": {
        "colab": {
          "base_uri": "https://localhost:8080/",
          "height": 206
        },
        "id": "pfhhU-pB_jKB",
        "outputId": "b9cd09fa-9fe2-4673-fdc1-85f82a222262"
      },
      "execution_count": 120,
      "outputs": [
        {
          "output_type": "execute_result",
          "data": {
            "text/plain": [
              "    Año    Mes            CCAA              Producto Precio_medio_kg  \\\n",
              "0  2018  Enero  Total Nacional         TOTAL PATATAS            0,78   \n",
              "1  2018  Enero  Total Nacional       PATATAS FRESCAS            0,69   \n",
              "2  2018  Enero  Total Nacional    PATATAS CONGELADAS            1,21   \n",
              "3  2018  Enero  Total Nacional    PATATAS PROCESADAS            5,02   \n",
              "4  2018  Enero  Total Nacional  T.HORTALIZAS FRESCAS            1,79   \n",
              "\n",
              "  Consumo_per_capita  \n",
              "0               2,38  \n",
              "1               1,74  \n",
              "2               0,09  \n",
              "3               0,11  \n",
              "4                4,6  "
            ],
            "text/html": [
              "\n",
              "  <div id=\"df-136b1512-10a7-4097-99b4-7411548caa5e\">\n",
              "    <div class=\"colab-df-container\">\n",
              "      <div>\n",
              "<style scoped>\n",
              "    .dataframe tbody tr th:only-of-type {\n",
              "        vertical-align: middle;\n",
              "    }\n",
              "\n",
              "    .dataframe tbody tr th {\n",
              "        vertical-align: top;\n",
              "    }\n",
              "\n",
              "    .dataframe thead th {\n",
              "        text-align: right;\n",
              "    }\n",
              "</style>\n",
              "<table border=\"1\" class=\"dataframe\">\n",
              "  <thead>\n",
              "    <tr style=\"text-align: right;\">\n",
              "      <th></th>\n",
              "      <th>Año</th>\n",
              "      <th>Mes</th>\n",
              "      <th>CCAA</th>\n",
              "      <th>Producto</th>\n",
              "      <th>Precio_medio_kg</th>\n",
              "      <th>Consumo_per_capita</th>\n",
              "    </tr>\n",
              "  </thead>\n",
              "  <tbody>\n",
              "    <tr>\n",
              "      <th>0</th>\n",
              "      <td>2018</td>\n",
              "      <td>Enero</td>\n",
              "      <td>Total Nacional</td>\n",
              "      <td>TOTAL PATATAS</td>\n",
              "      <td>0,78</td>\n",
              "      <td>2,38</td>\n",
              "    </tr>\n",
              "    <tr>\n",
              "      <th>1</th>\n",
              "      <td>2018</td>\n",
              "      <td>Enero</td>\n",
              "      <td>Total Nacional</td>\n",
              "      <td>PATATAS FRESCAS</td>\n",
              "      <td>0,69</td>\n",
              "      <td>1,74</td>\n",
              "    </tr>\n",
              "    <tr>\n",
              "      <th>2</th>\n",
              "      <td>2018</td>\n",
              "      <td>Enero</td>\n",
              "      <td>Total Nacional</td>\n",
              "      <td>PATATAS CONGELADAS</td>\n",
              "      <td>1,21</td>\n",
              "      <td>0,09</td>\n",
              "    </tr>\n",
              "    <tr>\n",
              "      <th>3</th>\n",
              "      <td>2018</td>\n",
              "      <td>Enero</td>\n",
              "      <td>Total Nacional</td>\n",
              "      <td>PATATAS PROCESADAS</td>\n",
              "      <td>5,02</td>\n",
              "      <td>0,11</td>\n",
              "    </tr>\n",
              "    <tr>\n",
              "      <th>4</th>\n",
              "      <td>2018</td>\n",
              "      <td>Enero</td>\n",
              "      <td>Total Nacional</td>\n",
              "      <td>T.HORTALIZAS FRESCAS</td>\n",
              "      <td>1,79</td>\n",
              "      <td>4,6</td>\n",
              "    </tr>\n",
              "  </tbody>\n",
              "</table>\n",
              "</div>\n",
              "      <button class=\"colab-df-convert\" onclick=\"convertToInteractive('df-136b1512-10a7-4097-99b4-7411548caa5e')\"\n",
              "              title=\"Convert this dataframe to an interactive table.\"\n",
              "              style=\"display:none;\">\n",
              "        \n",
              "  <svg xmlns=\"http://www.w3.org/2000/svg\" height=\"24px\"viewBox=\"0 0 24 24\"\n",
              "       width=\"24px\">\n",
              "    <path d=\"M0 0h24v24H0V0z\" fill=\"none\"/>\n",
              "    <path d=\"M18.56 5.44l.94 2.06.94-2.06 2.06-.94-2.06-.94-.94-2.06-.94 2.06-2.06.94zm-11 1L8.5 8.5l.94-2.06 2.06-.94-2.06-.94L8.5 2.5l-.94 2.06-2.06.94zm10 10l.94 2.06.94-2.06 2.06-.94-2.06-.94-.94-2.06-.94 2.06-2.06.94z\"/><path d=\"M17.41 7.96l-1.37-1.37c-.4-.4-.92-.59-1.43-.59-.52 0-1.04.2-1.43.59L10.3 9.45l-7.72 7.72c-.78.78-.78 2.05 0 2.83L4 21.41c.39.39.9.59 1.41.59.51 0 1.02-.2 1.41-.59l7.78-7.78 2.81-2.81c.8-.78.8-2.07 0-2.86zM5.41 20L4 18.59l7.72-7.72 1.47 1.35L5.41 20z\"/>\n",
              "  </svg>\n",
              "      </button>\n",
              "      \n",
              "  <style>\n",
              "    .colab-df-container {\n",
              "      display:flex;\n",
              "      flex-wrap:wrap;\n",
              "      gap: 12px;\n",
              "    }\n",
              "\n",
              "    .colab-df-convert {\n",
              "      background-color: #E8F0FE;\n",
              "      border: none;\n",
              "      border-radius: 50%;\n",
              "      cursor: pointer;\n",
              "      display: none;\n",
              "      fill: #1967D2;\n",
              "      height: 32px;\n",
              "      padding: 0 0 0 0;\n",
              "      width: 32px;\n",
              "    }\n",
              "\n",
              "    .colab-df-convert:hover {\n",
              "      background-color: #E2EBFA;\n",
              "      box-shadow: 0px 1px 2px rgba(60, 64, 67, 0.3), 0px 1px 3px 1px rgba(60, 64, 67, 0.15);\n",
              "      fill: #174EA6;\n",
              "    }\n",
              "\n",
              "    [theme=dark] .colab-df-convert {\n",
              "      background-color: #3B4455;\n",
              "      fill: #D2E3FC;\n",
              "    }\n",
              "\n",
              "    [theme=dark] .colab-df-convert:hover {\n",
              "      background-color: #434B5C;\n",
              "      box-shadow: 0px 1px 3px 1px rgba(0, 0, 0, 0.15);\n",
              "      filter: drop-shadow(0px 1px 2px rgba(0, 0, 0, 0.3));\n",
              "      fill: #FFFFFF;\n",
              "    }\n",
              "  </style>\n",
              "\n",
              "      <script>\n",
              "        const buttonEl =\n",
              "          document.querySelector('#df-136b1512-10a7-4097-99b4-7411548caa5e button.colab-df-convert');\n",
              "        buttonEl.style.display =\n",
              "          google.colab.kernel.accessAllowed ? 'block' : 'none';\n",
              "\n",
              "        async function convertToInteractive(key) {\n",
              "          const element = document.querySelector('#df-136b1512-10a7-4097-99b4-7411548caa5e');\n",
              "          const dataTable =\n",
              "            await google.colab.kernel.invokeFunction('convertToInteractive',\n",
              "                                                     [key], {});\n",
              "          if (!dataTable) return;\n",
              "\n",
              "          const docLinkHtml = 'Like what you see? Visit the ' +\n",
              "            '<a target=\"_blank\" href=https://colab.research.google.com/notebooks/data_table.ipynb>data table notebook</a>'\n",
              "            + ' to learn more about interactive tables.';\n",
              "          element.innerHTML = '';\n",
              "          dataTable['output_type'] = 'display_data';\n",
              "          await google.colab.output.renderOutput(dataTable, element);\n",
              "          const docLink = document.createElement('div');\n",
              "          docLink.innerHTML = docLinkHtml;\n",
              "          element.appendChild(docLink);\n",
              "        }\n",
              "      </script>\n",
              "    </div>\n",
              "  </div>\n",
              "  "
            ]
          },
          "metadata": {},
          "execution_count": 120
        }
      ]
    },
    {
      "cell_type": "markdown",
      "source": [
        "A continuación se ejecuta la siguiente línea de código para saber si hay elementos nulos (vemos que no los hay)."
      ],
      "metadata": {
        "id": "AIz5q-p-B82Z"
      }
    },
    {
      "cell_type": "code",
      "source": [
        "dataframe_1.isnull().values.all()"
      ],
      "metadata": {
        "colab": {
          "base_uri": "https://localhost:8080/"
        },
        "id": "A0ldHB2iB3iU",
        "outputId": "1cd7b14d-1f50-465d-f79e-1ca574afaa40"
      },
      "execution_count": 121,
      "outputs": [
        {
          "output_type": "execute_result",
          "data": {
            "text/plain": [
              "False"
            ]
          },
          "metadata": {},
          "execution_count": 121
        }
      ]
    },
    {
      "cell_type": "markdown",
      "source": [
        "### Limpieza de filas\n",
        "Primero vamos a quitar los datos de las comunidades autónomas dejando solo los datos nacionales. Esto es debido a que los datos de comunidades autónomas los tenemos en otro dataset ya más completo.\n",
        "A continuación eliminamos la columna de CCAA, como dijimos previamente, porque ya no la necesitamos."
      ],
      "metadata": {
        "id": "GT_RY3zL_3Qt"
      }
    },
    {
      "cell_type": "code",
      "source": [
        "df1_removed_rows = dataframe_1.drop(dataframe_1[dataframe_1.CCAA != \"Total Nacional\"].index)\n",
        "del df1_removed_rows[\"CCAA\"]"
      ],
      "metadata": {
        "id": "MipJLDCv_77q"
      },
      "execution_count": 122,
      "outputs": []
    },
    {
      "cell_type": "markdown",
      "source": [
        "A continuación primero se cambia el nombre del producto \"TOTAL PATATAS\" a \"PATATAS\" debido a que hay muchos tipos de patatas y este los aúna todos. Entonces una vez cambiado el nombre eliminamos los demas productos referentes a patatas específicas.\n",
        "Finalmente eliminamos los productos que aúnan multiples productos en uno solo estilo \"Total hortalizas frescas\" que lo único que hace es sumar los datos de todas las hortalizas."
      ],
      "metadata": {
        "id": "3MlHtvcs_-4J"
      }
    },
    {
      "cell_type": "code",
      "source": [
        "df1_removed_rows['Producto'].replace({'TOTAL PATATAS': 'PATATAS'}, inplace=True)\n",
        "df1_removed_rows.drop(df1_removed_rows[df1_removed_rows.Producto == \"PATATAS FRESCAS\"].index, inplace=True)\n",
        "df1_removed_rows.drop(df1_removed_rows[df1_removed_rows.Producto == \"PATATAS CONGELADAS\"].index, inplace=True)\n",
        "df1_removed_rows.drop(df1_removed_rows[df1_removed_rows.Producto == \"PATATAS PROCESADAS\"].index, inplace=True)\n",
        "df1_removed_rows.drop(df1_removed_rows[df1_removed_rows.Producto == \"T.HORTALIZAS FRESCAS\"].index, inplace=True)\n",
        "df1_removed_rows.drop(df1_removed_rows[df1_removed_rows.Producto == \"OTR.HORTALIZAS/VERD.\"].index, inplace=True)\n",
        "df1_removed_rows.drop(df1_removed_rows[df1_removed_rows.Producto == \"VERD./HORT. IV GAMA\"].index, inplace=True)\n",
        "df1_removed_rows.drop(df1_removed_rows[df1_removed_rows.Producto == \"T.FRUTAS FRESCAS\"].index, inplace=True)\n",
        "df1_removed_rows.drop(df1_removed_rows[df1_removed_rows.Producto == \"OTRAS FRUTAS FRESCAS\"].index, inplace=True)\n",
        "df1_removed_rows.drop(df1_removed_rows[df1_removed_rows.Producto == \"FRUTAS IV GAMA\"].index, inplace=True)"
      ],
      "metadata": {
        "id": "M73VFqGdAGS4"
      },
      "execution_count": 123,
      "outputs": []
    },
    {
      "cell_type": "markdown",
      "source": [
        "Tras eliminar todas estas filas problemáticas, se decide reindexar el dataset"
      ],
      "metadata": {
        "id": "43c4MjFwE0wa"
      }
    },
    {
      "cell_type": "code",
      "source": [
        "df1_removed_rows = df1_removed_rows.reset_index(drop=True)"
      ],
      "metadata": {
        "id": "SPBXjkWWD2jY"
      },
      "execution_count": 124,
      "outputs": []
    },
    {
      "cell_type": "markdown",
      "source": [
        "Aquí se comprueba qué tipo es cada columna por si hay que cambiar alguna."
      ],
      "metadata": {
        "id": "zQ21XG7NAG0u"
      }
    },
    {
      "cell_type": "code",
      "source": [
        "df1_removed_rows.dtypes"
      ],
      "metadata": {
        "colab": {
          "base_uri": "https://localhost:8080/"
        },
        "id": "LLWd8KtYAJQJ",
        "outputId": "a32a82ae-0f7b-4e05-834f-2bdc4e8935d0"
      },
      "execution_count": 125,
      "outputs": [
        {
          "output_type": "execute_result",
          "data": {
            "text/plain": [
              "Año                    int64\n",
              "Mes                   object\n",
              "Producto              object\n",
              "Precio_medio_kg       object\n",
              "Consumo_per_capita    object\n",
              "dtype: object"
            ]
          },
          "metadata": {},
          "execution_count": 125
        }
      ]
    },
    {
      "cell_type": "markdown",
      "source": [
        "Finalmente se decide que si y se cambia el tipo de la columna \"Mes\" a string, el de la columna \"Producto\" a string, el de la columna \"Precio_medio_kg\" a float y el de la columna \"Consumo_per_capita\" a float."
      ],
      "metadata": {
        "id": "CSRQ9wSTANBQ"
      }
    },
    {
      "cell_type": "code",
      "source": [
        "df1_removed_rows['Mes'] = df1_removed_rows['Mes'].astype('string')\n",
        "df1_removed_rows['Producto'] = df1_removed_rows['Producto'].astype('string')\n",
        "\n",
        "df1_removed_rows['Precio_medio_kg'] = df1_removed_rows['Precio_medio_kg'].str.replace(',', '.').astype(float)\n",
        "df1_removed_rows['Consumo_per_capita'] = df1_removed_rows['Consumo_per_capita'].str.replace(',', '.').astype(float)\n",
        "\n",
        "df1_removed_rows.dtypes"
      ],
      "metadata": {
        "colab": {
          "base_uri": "https://localhost:8080/"
        },
        "id": "ZUsyaD3CANoa",
        "outputId": "4299bf76-18d3-4023-ec20-4d6f1f944b41"
      },
      "execution_count": 126,
      "outputs": [
        {
          "output_type": "execute_result",
          "data": {
            "text/plain": [
              "Año                     int64\n",
              "Mes                    string\n",
              "Producto               string\n",
              "Precio_medio_kg       float64\n",
              "Consumo_per_capita    float64\n",
              "dtype: object"
            ]
          },
          "metadata": {},
          "execution_count": 126
        }
      ]
    },
    {
      "cell_type": "markdown",
      "source": [
        "### Descarga del archivo limpiado\n",
        "Se tranforma el dataframe a csv separando las celdas por el símbolo \";\", que es el símbolo que lee excel por defecto como separador."
      ],
      "metadata": {
        "id": "TZFJUwgbAsXy"
      }
    },
    {
      "cell_type": "code",
      "source": [
        "df1_removed_rows.to_csv('df_Spain_data.csv', sep = ';', index = False)\n",
        "\n",
        "files.download('df_Spain_data.csv')"
      ],
      "metadata": {
        "id": "TtOM9rJFAtHZ"
      },
      "execution_count": null,
      "outputs": []
    },
    {
      "cell_type": "markdown",
      "source": [
        "## Profiling del dataset 1\n",
        "\n",
        "Hacemos profiling del primer dataset para poder analizar mejor los datos contenidos en el dataset final una vez lo hemos limpiado."
      ],
      "metadata": {
        "id": "Kyxf6d-a_n_A"
      }
    },
    {
      "cell_type": "code",
      "source": [
        "profile = ProfileReport(df1_removed_rows, title=\"Consumo alimentario en España\", html={'style':{'full_width': True}})\n",
        "profile.to_notebook_iframe()"
      ],
      "metadata": {
        "id": "eRr7EyXy_oVY"
      },
      "execution_count": null,
      "outputs": []
    },
    {
      "cell_type": "markdown",
      "source": [
        "# Dataset 2 - Andalucía y Comunidad de Madrid\n",
        "\n",
        "Este dataset está centrado en los precios, volumen y valores de ventas mensuales de ciertos productos agrícolas en las comunidades de Andalucía y de Madrid.\n",
        "\n",
        "La principal intención de este dataset es ser empleado para la hipótesis 2: \n",
        "\n",
        "*Las zonas con mayor densidad de población tienen un mayor número de ventas de productos agrícolas.*"
      ],
      "metadata": {
        "id": "Y5Iqq3ff8vAE"
      }
    },
    {
      "cell_type": "markdown",
      "source": [
        "### Descripción de valores y columnas en el dataset\n",
        "Dentro de este dataset nos encontramos un total de 8 columnas:\n",
        "\n",
        "*   **Producto**: lista de los productos contenidos en el dataset.\n",
        "*   **Fecha**: muestra el mes y el año de los datos.\n",
        "\n",
        "En las siguientes columnas nos hemos ahorrado en explicarlas por separado, pues son 6 columnas que se diferencian en mostrar la misma información cambiando de qué comunidad (COM) provienen los datos. Por lo que se pueden resumir en 3:\n",
        "*   **Precio COM (€/Kg)**: Esta columna muestra el valor del precio medio de un producto en la fecha indicada para una región.\n",
        "*   **Valor COM (miles €)**: Esta columna muestra el valor total de las ganancias de las ventas de un producto en la fecha indicada para una región.\n",
        "*   **Volumen COM (miles kg)**: Esta columna muestra el volumen total de las ventas de un producto en la fecha indicada para una región."
      ],
      "metadata": {
        "id": "YtiGsS3782BX"
      }
    },
    {
      "cell_type": "markdown",
      "source": [
        "### Proceso de limpieza de los datos\n",
        "\n",
        "En este apartado explicaremos qué procesos se han seguido para limpiar los datos, de dónde provienen estos y qué información contenían originalmente.\n",
        "\n",
        "Los datos originales de los datos provienen en 3 archivos excel, cuya información viene dividida por meses en hojas de excel. Para poder leer correctamente los datos de los archivos se crea un bucle for que itere entre los archivos con otro bucle anidado que itere por las hojas dentro de estos.\n",
        "\n",
        "Para poder seleccionar los datos que nos interesan guardamos en la primera iteración del bucle la lista de los productos que nos interesen en la lista llamada ***products***. Esta lista nos sirve para poder hacer un *merge* entre la lista *products* y la hoja con todos los datos que vamos leyendo. De esta manera nos quedamos en la variable ***mes_aux*** los productos con su información relevante del mes que estemos leyendo.\n",
        "\n",
        "Tras filtrar los datos del mes en cuestión, eliminamos los duplicados que haya. Esto se debe a que los datos originales muestra información sobre distintos tipos de tomates, pimientos o judías verdes, entre otros, con la única distinción visual de incluírlos en subapartados (como productos frescos, de conserva o congelados) que no podemos diferenciar a través de código. Por esto, se decide eliminar los duplicados, manteniendo únicamente la primera aparición de los datos, ya que sabemos que son los datos de las hortalizas y frutas frescas, no de conserva ni congelados."
      ],
      "metadata": {
        "id": "EEMM0iahn4E_"
      }
    },
    {
      "cell_type": "code",
      "source": [
        "# Declaración de variables\n",
        "files =['2018datosmensualesdelpaneldeconsumoalimentarioenhogares_tcm30-520451_tcm30-520451.xlsx',\n",
        "        '2019datosmensualesdelpaneldeconsumoalimentarioenhogares_tcm30-5204501_tcm30-520450.xlsx',\n",
        "        '2020-datos-mensuales-panel-hogares-ccaa-rev-nov2021_tcm30-540244.xlsx']\n",
        "lista_mes = []\n",
        "lista_mes_2020 = []\n",
        "meses = {'Enero':'01', 'Febrero':'02', 'Marzo':'03', 'Abril':'04', 'Mayo':'05', 'Junio':'06', 'Julio':'07',\n",
        "         'Agosto':'08', 'Septiembre':'09', 'Octubre':'10', 'Noviembre':'11', 'Diciembre':'12'}\n",
        "first = True\n",
        "products = pd.DataFrame(columns = ['CONSUMO EN HOGARES'])\n",
        "mes_aux = pd.DataFrame(columns = ['Producto', 'Fecha', 'Precio AND (€/Kg)', 'Precio MAD (€/Kg)', 'Valor AND (miles €)', \n",
        "                            'Valor MAD (miles €)', 'Volumen AND (miles kg)', 'Volumen MAD (miles kg)'])\n",
        "\n",
        "# Bucle para la limpieza y obtención de los datos de los datasets originales\n",
        "for file in files:\n",
        "  año = file[0:4]\n",
        "  condition = True\n",
        "  \n",
        "  # Diferenciamos entre 2018/19 y 2020 al cambiar de formato para nombrar las hojas del excel\n",
        "  if año == '2020':\n",
        "    meses = {k.lower(): v for k, v in meses.items()}\n",
        "    condition = False\n",
        "\n",
        "  for mes in meses:\n",
        "    xl = pd.read_excel(file, sheet_name = mes)\n",
        "    mes_2020 = mes_aux = pd.DataFrame(columns = ['Producto', 'Fecha', 'Precio AND (€/Kg)', \n",
        "                                                 'Precio MAD (€/Kg)', 'Valor AND (miles €)', \n",
        "                                                 'Valor MAD (miles €)', 'Volumen AND (miles kg)', \n",
        "                                                 'Volumen MAD (miles kg)'])\n",
        "    # Take list of products we are interested in\n",
        "    if mes == 'Enero' and first:\n",
        "      products['CONSUMO EN HOGARES'] = xl.iloc[420:465]['CONSUMO EN HOGARES']\n",
        "      first = False\n",
        "    \n",
        "    # Juntamos el dataset base con la lista de productos con un merge para obtener solo los datos de interés\n",
        "    first_month = pd.merge(products, xl, on='CONSUMO EN HOGARES', how='left')\n",
        "    mes_aux[['Producto', 'Precio AND (€/Kg)', 'Precio MAD (€/Kg)', 'Valor AND (miles €)', 'Valor MAD (miles €)', \n",
        "             'Volumen AND (miles kg)', 'Volumen MAD (miles kg)']] = first_month[['CONSUMO EN HOGARES', \n",
        "             'Unnamed: 40', 'Unnamed: 46', 'Unnamed: 41', 'Unnamed: 47', 'Unnamed: 42', 'Unnamed: 48']]\n",
        "    \n",
        "    mes_aux['Fecha'] = meses[mes]+'/'+año\n",
        "    \n",
        "    # Limpieza de duplicados\n",
        "    mes_aux = mes_aux.drop_duplicates(subset=['Producto'], keep='first')\n",
        "\n",
        "    # Unimos los datos de cada mes y los almacenamos en un dataset aparte\n",
        "    lista_mes.append(mes_aux)\n",
        "    dataset_andmad = pd.concat(lista_mes)\n",
        "\n",
        "# Limpieza de nulos y normalización de los datos\n",
        "dataset_andmad = dataset_andmad.convert_dtypes()\n",
        "dataset_andmad = dataset_andmad.fillna(0.0)\n",
        "\n",
        "# Nos quitamos los valores que no nos interesan\n",
        "not_wanted = ['T.FRUTAS FRESCAS', 'T.HORTALIZAS FRESCAS', 'OTRAS FRUTAS FRESCAS', \n",
        "              'OTR.HORTALIZAS/VERD.', 'VERD./HORT. IV GAMA']\n",
        "ds_clean = dataset_andmad\n",
        "\n",
        "for product in not_wanted:\n",
        "  ds_clean = ds_clean.drop(ds_clean[ds_clean['Producto'] == product].index)\n",
        "\n",
        "ds_clean = ds_clean.round(decimals=3)\n",
        "ds_clean.reset_index(drop=True)"
      ],
      "metadata": {
        "id": "8M-QF7SvGG98"
      },
      "execution_count": null,
      "outputs": []
    },
    {
      "cell_type": "markdown",
      "source": [
        "## Profiling del dataset 2\n",
        "\n",
        "Hacemos profiling del segundo dataset para poder analizar mejor los datos contenidos en el dataset final una vez lo hemos limpiado."
      ],
      "metadata": {
        "id": "sRclc1ktvAdE"
      }
    },
    {
      "cell_type": "code",
      "source": [
        "# Profiling of our dataset\n",
        "profile = ProfileReport(ds_clean, title=\"Andalucia-Madrid\", html={'style':{'full_width': True}})\n",
        "profile.to_notebook_iframe()"
      ],
      "metadata": {
        "id": "-rxBxdosOemM"
      },
      "execution_count": null,
      "outputs": []
    },
    {
      "cell_type": "markdown",
      "source": [
        "# Dataset 4"
      ],
      "metadata": {
        "id": "YlZNkt3F4Edo"
      }
    },
    {
      "cell_type": "code",
      "source": [
        "df = pd.read_csv(\"Dataset4.- Comercio Exterior de España.txt\", sep =\"|\")\n",
        "df['FLOW'] = df['FLOW'].astype('category')\n",
        "df.Value= df.Value.replace({\":\":0})\n",
        "\n",
        "translator = GoogleTranslator(source=\"en\", target=\"es\")\n",
        "\n",
        "counts1 = df.groupby(\"INDICATORS\").size()\n",
        "df1 = df[(df.INDICATORS == \"VALUE_IN_EUROS\")]\n",
        "df2 = df[(df.INDICATORS == \"QUANTITY_IN_100KG\")]\n",
        "df2.index=df1.index\n",
        "df1.insert(7, \"VALUE IN EUROS\", df1.Value, True)\n",
        "df1.insert(8, \"QUANTITY IN 100 KG\", df2.Value, True)\n",
        "\n",
        "del(df1['INDICATORS'])\n",
        "del(df1['Value'])\n",
        "\n",
        "df1.isnull().values.any()"
      ],
      "metadata": {
        "colab": {
          "base_uri": "https://localhost:8080/"
        },
        "id": "p4xBTnFJ4LGU",
        "outputId": "342f2f88-62f6-40db-c5c1-d6514ad71cb6"
      },
      "execution_count": 37,
      "outputs": [
        {
          "output_type": "execute_result",
          "data": {
            "text/plain": [
              "False"
            ]
          },
          "metadata": {},
          "execution_count": 37
        }
      ]
    },
    {
      "cell_type": "code",
      "source": [
        "counts = df1.groupby(\"PRODUCT\").size()\n",
        "for i in counts.index:\n",
        "  df1.PRODUCT= df1.PRODUCT.replace({i:translator.translate(i)})\n",
        "df1 = df1.drop(columns=['PARTNER'])\n",
        "\n",
        "df1.to_csv(r'Dataset 4 actualizado', index=False)"
      ],
      "metadata": {
        "id": "p_iZ-YUo5-Ts"
      },
      "execution_count": null,
      "outputs": []
    },
    {
      "cell_type": "markdown",
      "source": [
        "## Profiling del dataset 4\n",
        "\n",
        "Hacemos profiling del *cuarto* dataset para poder analizar mejor los datos contenidos en el dataset final una vez lo hemos limpiado."
      ],
      "metadata": {
        "id": "YgBJWsrp6UuV"
      }
    },
    {
      "cell_type": "code",
      "source": [
        "profile = ProfileReport(df1, title=\"Imports-Exports\", html={'style':{'full_width': True}})\n",
        "profile.to_notebook_iframe()"
      ],
      "metadata": {
        "id": "ez_GuEwv6aTw"
      },
      "execution_count": null,
      "outputs": []
    },
    {
      "cell_type": "markdown",
      "source": [
        "# Descripción: Dataset 5\n",
        "Descartadas columnas: \n",
        "- 'dateRep': redundundante, ya se utilizan 'day', 'month' y 'year' para describir la fecha, en un formato mas util para la selección con respecto al estudio a realizar.\n",
        "- 'geoId': irrelevante, es mas descriptivo el uso de 'countriesAndTerritories' para vilualizar los datos por país.\n",
        "- 'countryterritoryCode': al igual de 'geoId' es una abreviatura del país al que hace referencia.\n",
        "- 'popData2019': irrelevante, para el estudio los valores de la poblacion durante 2019 son innecesario. No se va a comparar la muestra de 2019 con muestras de los años siguiestes.\n",
        "\n",
        "Descartadas filas cuyo indice coincide con: \n",
        "- 'Cases_on_an_international_conveyance_Japan': irrelevante, para el estudio se toman encuenta las muertes en los **diferentes territorios nacionales**.\n",
        "\n",
        "Datos del dataset5 relevantes para el estudio:"
      ],
      "metadata": {
        "id": "sq48phZYy-zB"
      }
    },
    {
      "cell_type": "markdown",
      "source": [
        "## Carga de Datos: Dataset 5\n",
        "Carga del **Dataset5_Coronavirus_cases.txt**, cuyo continido son los **casos de Corona virus**, formato de archivo tipo **.txt**. Tipo de saparadores entre los datos **\"|\"**."
      ],
      "metadata": {
        "id": "0tHo9Bm7zM09"
      }
    },
    {
      "cell_type": "code",
      "source": [
        "data5 = pd.read_csv(\"Dataset5_Coronavirus_cases.txt\", sep=\"|\", index_col=\"countriesAndTerritories\")\n",
        "data5.columns"
      ],
      "metadata": {
        "colab": {
          "base_uri": "https://localhost:8080/"
        },
        "id": "m93mR2xSzOy5",
        "outputId": "66135aef-aa9f-4734-fac3-5c13aeb089f2"
      },
      "execution_count": 20,
      "outputs": [
        {
          "output_type": "execute_result",
          "data": {
            "text/plain": [
              "Index(['dateRep', 'day', 'month', 'year', 'cases', 'deaths', 'geoId',\n",
              "       'countryterritoryCode', 'popData2019', 'continentExp',\n",
              "       'Cumulative_number_for_14_days_of_COVID-19_cases_per_100000'],\n",
              "      dtype='object')"
            ]
          },
          "metadata": {},
          "execution_count": 20
        }
      ]
    },
    {
      "cell_type": "code",
      "source": [
        "data5 = data5[['day', 'month', 'year', 'cases', 'deaths', 'continentExp',\n",
        "       'Cumulative_number_for_14_days_of_COVID-19_cases_per_100000']]"
      ],
      "metadata": {
        "id": "e_4qjY_GzHE8"
      },
      "execution_count": 21,
      "outputs": []
    },
    {
      "cell_type": "markdown",
      "source": [
        "## Limpieza de Datos \n",
        "\n",
        "Datos incompletos, mal organizados, errores, etc. Hay que intentar identificarlos y tratarlos antes de comenzar el análisis, o mediante borrado, sustitución, etc.\n",
        "\n",
        "En este caso, afortundamente no tenemos datos perdidos."
      ],
      "metadata": {
        "id": "NUz7lWQLzso_"
      }
    },
    {
      "cell_type": "code",
      "source": [
        "data5 = data5.drop(\"Cases_on_an_international_conveyance_Japan\")\n",
        "data5.isnull().values.any()"
      ],
      "metadata": {
        "colab": {
          "base_uri": "https://localhost:8080/"
        },
        "id": "b0bJ16EVzxcm",
        "outputId": "c290b79c-40ee-40b4-9b80-2ed014c66a12"
      },
      "execution_count": 22,
      "outputs": [
        {
          "output_type": "execute_result",
          "data": {
            "text/plain": [
              "True"
            ]
          },
          "metadata": {},
          "execution_count": 22
        }
      ]
    },
    {
      "cell_type": "markdown",
      "source": [
        "## Profiling del dataset 5\n",
        "\n",
        "Hacemos profiling del quinto dataset para poder analizar mejor los datos contenidos en el dataset final una vez lo hemos limpiado."
      ],
      "metadata": {
        "id": "92Vh2vzu0HgF"
      }
    },
    {
      "cell_type": "code",
      "source": [
        "profile = ProfileReport(data5, title=\"Coronavirus cases\", html={'style':{'full_width': True}})\n",
        "profile.to_notebook_iframe()"
      ],
      "metadata": {
        "id": "FEDDsEUq0PR-"
      },
      "execution_count": null,
      "outputs": []
    }
  ]
}