{
  "nbformat": 4,
  "nbformat_minor": 0,
  "metadata": {
    "colab": {
      "provenance": [],
      "collapsed_sections": [
        "YtiGsS3782BX",
        "YgBJWsrp6UuV"
      ],
      "toc_visible": true
    },
    "kernelspec": {
      "name": "python3",
      "display_name": "Python 3"
    },
    "language_info": {
      "name": "python"
    }
  },
  "cells": [
    {
      "cell_type": "markdown",
      "source": [
        "# **AVISO EN CASO DE ERRORES**\n",
        "\n",
        "En caso de que la librería de pandas-profiling de errores de ejecución (lo cual es bastante común), ejecute estas líneas de código y reinicie el entorno de ejecución para que funcione la parte del profiling correctamente en caso de que se quieran ejecutar dichos apartados."
      ],
      "metadata": {
        "id": "k0eJf8Pwgjvh"
      }
    },
    {
      "cell_type": "code",
      "source": [
        "%%capture\n",
        "!pip uninstall -y pandas-profiling\n",
        "!pip install pandas-profiling"
      ],
      "metadata": {
        "id": "1Ps0HlMBDiQp"
      },
      "execution_count": null,
      "outputs": []
    },
    {
      "cell_type": "markdown",
      "source": [
        "# Descripción del Colab\n",
        "\n",
        "En este Colab se muestran los procesos de limpieza de datos y profiling de los distintos datasets que hemos empleado para el laboratorio de Minería de Datos. \n",
        "\n",
        "La explicación de los procesos realizados para cada dataset se muestran separados a continuacion en este Colab."
      ],
      "metadata": {
        "id": "iet7776hmCPP"
      }
    },
    {
      "cell_type": "markdown",
      "source": [
        "### Librerías empleadas en este fichero"
      ],
      "metadata": {
        "id": "8uwCGdZ9ya-u"
      }
    },
    {
      "cell_type": "code",
      "source": [
        "%%capture\n",
        "!pip install deep_translator"
      ],
      "metadata": {
        "id": "yUyz-gAd4SLv"
      },
      "execution_count": null,
      "outputs": []
    },
    {
      "cell_type": "code",
      "source": [
        "import re\n",
        "import numpy as np\n",
        "import pandas as pd\n",
        "from pandas_profiling import ProfileReport\n",
        "from pandas.io.formats.style_render import DataFrame\n",
        "from google.colab import files\n",
        "import io\n",
        "from deep_translator import GoogleTranslator\n",
        "import sys"
      ],
      "metadata": {
        "id": "rBgobnDTFpu1"
      },
      "execution_count": null,
      "outputs": []
    },
    {
      "cell_type": "markdown",
      "source": [
        "# Carga de datos\n",
        "Ejecución de código para seleccionar los archivos que les hemos otorgado paa subirlos en el Colab."
      ],
      "metadata": {
        "id": "AdJQbemp9EHB"
      }
    },
    {
      "cell_type": "code",
      "source": [
        "uploaded = files.upload()\n",
        "\n",
        "for fn in uploaded.keys():\n",
        "  print('User uploaded file \"{name}\" with length {length} bytes'.format(\n",
        "      name=fn, length=len(uploaded[fn])))"
      ],
      "metadata": {
        "id": "P60cXkU49Lha"
      },
      "execution_count": null,
      "outputs": []
    },
    {
      "cell_type": "markdown",
      "source": [
        "# Dataset 1 - Ventas y precios nacionales\n",
        "Este dataset contiene la información de las ventas y el consumo nacional de diferentes frutas y hortalizas desde 2018 hasta noviembre de 2020. Se va a utilizar el dataset llamado '*Dataset1.- DatosConsumoAlimentarioMAPAporCCAA.txt*'\n",
        "\n",
        "Este dataset se utiliza mezclado con otro que veremos más adelante para las hipótesis 3 y 4: \n",
        "\n",
        "*-Durante una pandemia se produce un incremento del precio de los productos agrícolas.*\n",
        "\n",
        "*-Durante una pandemia se produce un decremento del consumo de los productos agrícolas.*"
      ],
      "metadata": {
        "id": "NVLv1MLe84Zo"
      }
    },
    {
      "cell_type": "markdown",
      "source": [
        "### Descripción de valores y columnas en el dataset final\n",
        "Una vez limpio el dataset tendremos un total de 4 columnas:\n",
        "\n",
        "*   **fecha**: es el mes y año en el que se estan mostrando los datos de la fila. Esta en formato \"Mes/Año\".\n",
        "*   **producto**: es el nombre de la fruta u hortaliza.\n",
        "*   **precio_medio_kg**: es el precio medio de la fruta u hortaliza ese mes.\n",
        "*   **consumo_per_capita**: es la relación entre el total de los habitantes del país y la cantidad de producto que han consumido ese mes."
      ],
      "metadata": {
        "id": "w8cjFM36CRS_"
      }
    },
    {
      "cell_type": "markdown",
      "source": [
        "Lo primero que vamos a hacer es cargar los datos en el dataframe llamado \"dataframe_1\"."
      ],
      "metadata": {
        "id": "1N35GN-2CZ1J"
      }
    },
    {
      "cell_type": "code",
      "source": [
        "dataframe_1 = pd.read_csv(\"Dataset1.- DatosConsumoAlimentarioMAPAporCCAA.txt\", sep=\"|\")"
      ],
      "metadata": {
        "id": "6a_YGGhw9_DB"
      },
      "execution_count": null,
      "outputs": []
    },
    {
      "cell_type": "markdown",
      "source": [
        "## Limpieza de columnas\n",
        "\n",
        "Aquí vamos a eliminar las columnas que no nos aportan nada para nuestro objetivo, que en este caso sería ver el precio de unos productos y el consumo de estos en España. En este caso sólo vamos a querer las columnas \"Año\", \"Mes\", \"CCAA\" (esta la eliminaremos después porque la necesitamos para algo antes), \"Producto\", \"Precio medio kg\" y \"Consumo per capita\"."
      ],
      "metadata": {
        "id": "PyDSx_oy-kAn"
      }
    },
    {
      "cell_type": "code",
      "source": [
        "del dataframe_1[\"Penetración (%)\"]\n",
        "del dataframe_1[\"Valor (miles de €)\"]\n",
        "del dataframe_1[\"Gasto per capita\"]\n",
        "del dataframe_1[\"Volumen (miles de kg)\"]\n",
        "del dataframe_1[\"Unnamed: 10\"]\n",
        "del dataframe_1[\"Unnamed: 11\"]"
      ],
      "metadata": {
        "id": "mQmyDg-i-peC"
      },
      "execution_count": null,
      "outputs": []
    },
    {
      "cell_type": "markdown",
      "source": [
        "Aquí cambiamos el nombre de las columnas \"Precio medio kg\" y \"Consumo per capita\" para reemplazarle los espacios del nombre por \"_\". Además pondremos en minúscula el nombre de estas dos columnas anteriores y la columna de \"producto\". Esto es para manipular los datos de forma más comoda en adelante."
      ],
      "metadata": {
        "id": "9gJ4qMGZ_icz"
      }
    },
    {
      "cell_type": "code",
      "source": [
        "dataframe_1.rename({'Precio medio kg': 'precio_medio_kg'}, axis=1, inplace=True)\n",
        "dataframe_1.rename({'Consumo per capita': 'consumo_per_capita'}, axis=1, inplace=True)\n",
        "dataframe_1.rename({'Producto': 'producto'}, axis=1, inplace=True)\n",
        "\n",
        "dataframe_1.head()"
      ],
      "metadata": {
        "colab": {
          "base_uri": "https://localhost:8080/",
          "height": 206
        },
        "id": "pfhhU-pB_jKB",
        "outputId": "98a969d4-2af9-42a4-feff-c3aef315b85c"
      },
      "execution_count": null,
      "outputs": [
        {
          "output_type": "execute_result",
          "data": {
            "text/plain": [
              "    Año    Mes            CCAA              producto precio_medio_kg  \\\n",
              "0  2018  Enero  Total Nacional         TOTAL PATATAS            0,78   \n",
              "1  2018  Enero  Total Nacional       PATATAS FRESCAS            0,69   \n",
              "2  2018  Enero  Total Nacional    PATATAS CONGELADAS            1,21   \n",
              "3  2018  Enero  Total Nacional    PATATAS PROCESADAS            5,02   \n",
              "4  2018  Enero  Total Nacional  T.HORTALIZAS FRESCAS            1,79   \n",
              "\n",
              "  consumo_per_capita  \n",
              "0               2,38  \n",
              "1               1,74  \n",
              "2               0,09  \n",
              "3               0,11  \n",
              "4                4,6  "
            ],
            "text/html": [
              "\n",
              "  <div id=\"df-a0eac4c7-2764-4d32-a392-adabcc3268b7\">\n",
              "    <div class=\"colab-df-container\">\n",
              "      <div>\n",
              "<style scoped>\n",
              "    .dataframe tbody tr th:only-of-type {\n",
              "        vertical-align: middle;\n",
              "    }\n",
              "\n",
              "    .dataframe tbody tr th {\n",
              "        vertical-align: top;\n",
              "    }\n",
              "\n",
              "    .dataframe thead th {\n",
              "        text-align: right;\n",
              "    }\n",
              "</style>\n",
              "<table border=\"1\" class=\"dataframe\">\n",
              "  <thead>\n",
              "    <tr style=\"text-align: right;\">\n",
              "      <th></th>\n",
              "      <th>Año</th>\n",
              "      <th>Mes</th>\n",
              "      <th>CCAA</th>\n",
              "      <th>producto</th>\n",
              "      <th>precio_medio_kg</th>\n",
              "      <th>consumo_per_capita</th>\n",
              "    </tr>\n",
              "  </thead>\n",
              "  <tbody>\n",
              "    <tr>\n",
              "      <th>0</th>\n",
              "      <td>2018</td>\n",
              "      <td>Enero</td>\n",
              "      <td>Total Nacional</td>\n",
              "      <td>TOTAL PATATAS</td>\n",
              "      <td>0,78</td>\n",
              "      <td>2,38</td>\n",
              "    </tr>\n",
              "    <tr>\n",
              "      <th>1</th>\n",
              "      <td>2018</td>\n",
              "      <td>Enero</td>\n",
              "      <td>Total Nacional</td>\n",
              "      <td>PATATAS FRESCAS</td>\n",
              "      <td>0,69</td>\n",
              "      <td>1,74</td>\n",
              "    </tr>\n",
              "    <tr>\n",
              "      <th>2</th>\n",
              "      <td>2018</td>\n",
              "      <td>Enero</td>\n",
              "      <td>Total Nacional</td>\n",
              "      <td>PATATAS CONGELADAS</td>\n",
              "      <td>1,21</td>\n",
              "      <td>0,09</td>\n",
              "    </tr>\n",
              "    <tr>\n",
              "      <th>3</th>\n",
              "      <td>2018</td>\n",
              "      <td>Enero</td>\n",
              "      <td>Total Nacional</td>\n",
              "      <td>PATATAS PROCESADAS</td>\n",
              "      <td>5,02</td>\n",
              "      <td>0,11</td>\n",
              "    </tr>\n",
              "    <tr>\n",
              "      <th>4</th>\n",
              "      <td>2018</td>\n",
              "      <td>Enero</td>\n",
              "      <td>Total Nacional</td>\n",
              "      <td>T.HORTALIZAS FRESCAS</td>\n",
              "      <td>1,79</td>\n",
              "      <td>4,6</td>\n",
              "    </tr>\n",
              "  </tbody>\n",
              "</table>\n",
              "</div>\n",
              "      <button class=\"colab-df-convert\" onclick=\"convertToInteractive('df-a0eac4c7-2764-4d32-a392-adabcc3268b7')\"\n",
              "              title=\"Convert this dataframe to an interactive table.\"\n",
              "              style=\"display:none;\">\n",
              "        \n",
              "  <svg xmlns=\"http://www.w3.org/2000/svg\" height=\"24px\"viewBox=\"0 0 24 24\"\n",
              "       width=\"24px\">\n",
              "    <path d=\"M0 0h24v24H0V0z\" fill=\"none\"/>\n",
              "    <path d=\"M18.56 5.44l.94 2.06.94-2.06 2.06-.94-2.06-.94-.94-2.06-.94 2.06-2.06.94zm-11 1L8.5 8.5l.94-2.06 2.06-.94-2.06-.94L8.5 2.5l-.94 2.06-2.06.94zm10 10l.94 2.06.94-2.06 2.06-.94-2.06-.94-.94-2.06-.94 2.06-2.06.94z\"/><path d=\"M17.41 7.96l-1.37-1.37c-.4-.4-.92-.59-1.43-.59-.52 0-1.04.2-1.43.59L10.3 9.45l-7.72 7.72c-.78.78-.78 2.05 0 2.83L4 21.41c.39.39.9.59 1.41.59.51 0 1.02-.2 1.41-.59l7.78-7.78 2.81-2.81c.8-.78.8-2.07 0-2.86zM5.41 20L4 18.59l7.72-7.72 1.47 1.35L5.41 20z\"/>\n",
              "  </svg>\n",
              "      </button>\n",
              "      \n",
              "  <style>\n",
              "    .colab-df-container {\n",
              "      display:flex;\n",
              "      flex-wrap:wrap;\n",
              "      gap: 12px;\n",
              "    }\n",
              "\n",
              "    .colab-df-convert {\n",
              "      background-color: #E8F0FE;\n",
              "      border: none;\n",
              "      border-radius: 50%;\n",
              "      cursor: pointer;\n",
              "      display: none;\n",
              "      fill: #1967D2;\n",
              "      height: 32px;\n",
              "      padding: 0 0 0 0;\n",
              "      width: 32px;\n",
              "    }\n",
              "\n",
              "    .colab-df-convert:hover {\n",
              "      background-color: #E2EBFA;\n",
              "      box-shadow: 0px 1px 2px rgba(60, 64, 67, 0.3), 0px 1px 3px 1px rgba(60, 64, 67, 0.15);\n",
              "      fill: #174EA6;\n",
              "    }\n",
              "\n",
              "    [theme=dark] .colab-df-convert {\n",
              "      background-color: #3B4455;\n",
              "      fill: #D2E3FC;\n",
              "    }\n",
              "\n",
              "    [theme=dark] .colab-df-convert:hover {\n",
              "      background-color: #434B5C;\n",
              "      box-shadow: 0px 1px 3px 1px rgba(0, 0, 0, 0.15);\n",
              "      filter: drop-shadow(0px 1px 2px rgba(0, 0, 0, 0.3));\n",
              "      fill: #FFFFFF;\n",
              "    }\n",
              "  </style>\n",
              "\n",
              "      <script>\n",
              "        const buttonEl =\n",
              "          document.querySelector('#df-a0eac4c7-2764-4d32-a392-adabcc3268b7 button.colab-df-convert');\n",
              "        buttonEl.style.display =\n",
              "          google.colab.kernel.accessAllowed ? 'block' : 'none';\n",
              "\n",
              "        async function convertToInteractive(key) {\n",
              "          const element = document.querySelector('#df-a0eac4c7-2764-4d32-a392-adabcc3268b7');\n",
              "          const dataTable =\n",
              "            await google.colab.kernel.invokeFunction('convertToInteractive',\n",
              "                                                     [key], {});\n",
              "          if (!dataTable) return;\n",
              "\n",
              "          const docLinkHtml = 'Like what you see? Visit the ' +\n",
              "            '<a target=\"_blank\" href=https://colab.research.google.com/notebooks/data_table.ipynb>data table notebook</a>'\n",
              "            + ' to learn more about interactive tables.';\n",
              "          element.innerHTML = '';\n",
              "          dataTable['output_type'] = 'display_data';\n",
              "          await google.colab.output.renderOutput(dataTable, element);\n",
              "          const docLink = document.createElement('div');\n",
              "          docLink.innerHTML = docLinkHtml;\n",
              "          element.appendChild(docLink);\n",
              "        }\n",
              "      </script>\n",
              "    </div>\n",
              "  </div>\n",
              "  "
            ]
          },
          "metadata": {},
          "execution_count": 5
        }
      ]
    },
    {
      "cell_type": "markdown",
      "source": [
        "A continuación se ejecuta la siguiente línea de código para saber si hay elementos nulos (vemos que no los hay)."
      ],
      "metadata": {
        "id": "AIz5q-p-B82Z"
      }
    },
    {
      "cell_type": "code",
      "source": [
        "dataframe_1.isnull().values.all()"
      ],
      "metadata": {
        "colab": {
          "base_uri": "https://localhost:8080/"
        },
        "id": "A0ldHB2iB3iU",
        "outputId": "5c5b2b22-ac2a-4b36-caf6-0cb3ff86d7e0"
      },
      "execution_count": null,
      "outputs": [
        {
          "output_type": "execute_result",
          "data": {
            "text/plain": [
              "False"
            ]
          },
          "metadata": {},
          "execution_count": 6
        }
      ]
    },
    {
      "cell_type": "markdown",
      "source": [
        "## Limpieza de filas\n",
        "Primero vamos a quitar los datos de las comunidades autónomas dejando solo los datos nacionales. Esto es debido a que los datos de comunidades autónomas los tenemos en otro dataset ya más completo.\n",
        "A continuación eliminamos la columna de CCAA, como dijimos previamente, porque ya no la necesitamos."
      ],
      "metadata": {
        "id": "GT_RY3zL_3Qt"
      }
    },
    {
      "cell_type": "code",
      "source": [
        "df1_final = dataframe_1.drop(dataframe_1[dataframe_1.CCAA != \"Total Nacional\"].index)\n",
        "del df1_final[\"CCAA\"]"
      ],
      "metadata": {
        "id": "MipJLDCv_77q"
      },
      "execution_count": null,
      "outputs": []
    },
    {
      "cell_type": "markdown",
      "source": [
        "A continuación primero se cambia el nombre del producto \"TOTAL PATATAS\" a \"PATATAS\" debido a que hay muchos tipos de patatas y este los aúna todos. Entonces una vez cambiado el nombre eliminamos los demas productos referentes a patatas específicas.\n",
        "Finalmente eliminamos los productos que aúnan multiples productos en uno solo estilo \"Total hortalizas frescas\" que lo único que hace es sumar los datos de todas las hortalizas."
      ],
      "metadata": {
        "id": "3MlHtvcs_-4J"
      }
    },
    {
      "cell_type": "code",
      "source": [
        "df1_final['producto'].replace({'TOTAL PATATAS': 'PATATAS'}, inplace=True)\n",
        "df1_final.drop(df1_final[df1_final.producto == \"PATATAS FRESCAS\"].index, inplace=True)\n",
        "df1_final.drop(df1_final[df1_final.producto == \"PATATAS CONGELADAS\"].index, inplace=True)\n",
        "df1_final.drop(df1_final[df1_final.producto == \"PATATAS PROCESADAS\"].index, inplace=True)\n",
        "df1_final.drop(df1_final[df1_final.producto == \"T.HORTALIZAS FRESCAS\"].index, inplace=True)\n",
        "df1_final.drop(df1_final[df1_final.producto == \"OTR.HORTALIZAS/VERD.\"].index, inplace=True)\n",
        "df1_final.drop(df1_final[df1_final.producto == \"VERD./HORT. IV GAMA\"].index, inplace=True)\n",
        "df1_final.drop(df1_final[df1_final.producto == \"T.FRUTAS FRESCAS\"].index, inplace=True)\n",
        "df1_final.drop(df1_final[df1_final.producto == \"OTRAS FRUTAS FRESCAS\"].index, inplace=True)\n",
        "df1_final.drop(df1_final[df1_final.producto == \"FRUTAS IV GAMA\"].index, inplace=True)"
      ],
      "metadata": {
        "id": "M73VFqGdAGS4"
      },
      "execution_count": null,
      "outputs": []
    },
    {
      "cell_type": "markdown",
      "source": [
        "Tras eliminar todas estas filas problemáticas, se decide reindexar el dataset"
      ],
      "metadata": {
        "id": "43c4MjFwE0wa"
      }
    },
    {
      "cell_type": "code",
      "source": [
        "df1_final = df1_final.reset_index(drop = True)"
      ],
      "metadata": {
        "id": "SPBXjkWWD2jY"
      },
      "execution_count": null,
      "outputs": []
    },
    {
      "cell_type": "markdown",
      "source": [
        "Ahora vamos a unir las columnas de Año y Mes en una columna llamada \"fecha\" con el formato \"Mes(en número)/Año\". Para ello lo primero que vamos a hacer es cambiar los meses, que están escritos con letra, a número."
      ],
      "metadata": {
        "id": "egkV5nfFb2Uv"
      }
    },
    {
      "cell_type": "code",
      "source": [
        "for index, value in df1_final['Mes'].iteritems():\n",
        "    mapping = {\n",
        "        'Enero': 1,\n",
        "        'Febrero': 2,\n",
        "        'Marzo': 3,\n",
        "        'Abril': 4,\n",
        "        'Mayo': 5,\n",
        "        'Junio': 6,\n",
        "        'Julio': 7,\n",
        "        'Agosto': 8,\n",
        "        'Septiembre': 9,\n",
        "        'Octubre': 10,\n",
        "        'Noviembre': 11,\n",
        "        'Diciembre': 12\n",
        "        }\n",
        "    df1_final.loc[index, 'Mes'] = mapping[value]"
      ],
      "metadata": {
        "id": "hz78JtOYb3V0"
      },
      "execution_count": null,
      "outputs": []
    },
    {
      "cell_type": "code",
      "source": [
        "df1_final.head()"
      ],
      "metadata": {
        "id": "iWu-UObpb9b3",
        "colab": {
          "base_uri": "https://localhost:8080/",
          "height": 206
        },
        "outputId": "f2e9805b-14e6-4d32-894d-48e3a884cb26"
      },
      "execution_count": null,
      "outputs": [
        {
          "output_type": "execute_result",
          "data": {
            "text/plain": [
              "    Año Mes  producto precio_medio_kg consumo_per_capita\n",
              "0  2018   1   PATATAS            0,78               2,38\n",
              "1  2018   1   TOMATES            1,69               0,88\n",
              "2  2018   1  CEBOLLAS            1,01               0,57\n",
              "3  2018   1      AJOS            4,17               0,06\n",
              "4  2018   1     COLES            1,08               0,15"
            ],
            "text/html": [
              "\n",
              "  <div id=\"df-5c2c5cb4-a3b6-42ca-9bb4-0f5956ab91f8\">\n",
              "    <div class=\"colab-df-container\">\n",
              "      <div>\n",
              "<style scoped>\n",
              "    .dataframe tbody tr th:only-of-type {\n",
              "        vertical-align: middle;\n",
              "    }\n",
              "\n",
              "    .dataframe tbody tr th {\n",
              "        vertical-align: top;\n",
              "    }\n",
              "\n",
              "    .dataframe thead th {\n",
              "        text-align: right;\n",
              "    }\n",
              "</style>\n",
              "<table border=\"1\" class=\"dataframe\">\n",
              "  <thead>\n",
              "    <tr style=\"text-align: right;\">\n",
              "      <th></th>\n",
              "      <th>Año</th>\n",
              "      <th>Mes</th>\n",
              "      <th>producto</th>\n",
              "      <th>precio_medio_kg</th>\n",
              "      <th>consumo_per_capita</th>\n",
              "    </tr>\n",
              "  </thead>\n",
              "  <tbody>\n",
              "    <tr>\n",
              "      <th>0</th>\n",
              "      <td>2018</td>\n",
              "      <td>1</td>\n",
              "      <td>PATATAS</td>\n",
              "      <td>0,78</td>\n",
              "      <td>2,38</td>\n",
              "    </tr>\n",
              "    <tr>\n",
              "      <th>1</th>\n",
              "      <td>2018</td>\n",
              "      <td>1</td>\n",
              "      <td>TOMATES</td>\n",
              "      <td>1,69</td>\n",
              "      <td>0,88</td>\n",
              "    </tr>\n",
              "    <tr>\n",
              "      <th>2</th>\n",
              "      <td>2018</td>\n",
              "      <td>1</td>\n",
              "      <td>CEBOLLAS</td>\n",
              "      <td>1,01</td>\n",
              "      <td>0,57</td>\n",
              "    </tr>\n",
              "    <tr>\n",
              "      <th>3</th>\n",
              "      <td>2018</td>\n",
              "      <td>1</td>\n",
              "      <td>AJOS</td>\n",
              "      <td>4,17</td>\n",
              "      <td>0,06</td>\n",
              "    </tr>\n",
              "    <tr>\n",
              "      <th>4</th>\n",
              "      <td>2018</td>\n",
              "      <td>1</td>\n",
              "      <td>COLES</td>\n",
              "      <td>1,08</td>\n",
              "      <td>0,15</td>\n",
              "    </tr>\n",
              "  </tbody>\n",
              "</table>\n",
              "</div>\n",
              "      <button class=\"colab-df-convert\" onclick=\"convertToInteractive('df-5c2c5cb4-a3b6-42ca-9bb4-0f5956ab91f8')\"\n",
              "              title=\"Convert this dataframe to an interactive table.\"\n",
              "              style=\"display:none;\">\n",
              "        \n",
              "  <svg xmlns=\"http://www.w3.org/2000/svg\" height=\"24px\"viewBox=\"0 0 24 24\"\n",
              "       width=\"24px\">\n",
              "    <path d=\"M0 0h24v24H0V0z\" fill=\"none\"/>\n",
              "    <path d=\"M18.56 5.44l.94 2.06.94-2.06 2.06-.94-2.06-.94-.94-2.06-.94 2.06-2.06.94zm-11 1L8.5 8.5l.94-2.06 2.06-.94-2.06-.94L8.5 2.5l-.94 2.06-2.06.94zm10 10l.94 2.06.94-2.06 2.06-.94-2.06-.94-.94-2.06-.94 2.06-2.06.94z\"/><path d=\"M17.41 7.96l-1.37-1.37c-.4-.4-.92-.59-1.43-.59-.52 0-1.04.2-1.43.59L10.3 9.45l-7.72 7.72c-.78.78-.78 2.05 0 2.83L4 21.41c.39.39.9.59 1.41.59.51 0 1.02-.2 1.41-.59l7.78-7.78 2.81-2.81c.8-.78.8-2.07 0-2.86zM5.41 20L4 18.59l7.72-7.72 1.47 1.35L5.41 20z\"/>\n",
              "  </svg>\n",
              "      </button>\n",
              "      \n",
              "  <style>\n",
              "    .colab-df-container {\n",
              "      display:flex;\n",
              "      flex-wrap:wrap;\n",
              "      gap: 12px;\n",
              "    }\n",
              "\n",
              "    .colab-df-convert {\n",
              "      background-color: #E8F0FE;\n",
              "      border: none;\n",
              "      border-radius: 50%;\n",
              "      cursor: pointer;\n",
              "      display: none;\n",
              "      fill: #1967D2;\n",
              "      height: 32px;\n",
              "      padding: 0 0 0 0;\n",
              "      width: 32px;\n",
              "    }\n",
              "\n",
              "    .colab-df-convert:hover {\n",
              "      background-color: #E2EBFA;\n",
              "      box-shadow: 0px 1px 2px rgba(60, 64, 67, 0.3), 0px 1px 3px 1px rgba(60, 64, 67, 0.15);\n",
              "      fill: #174EA6;\n",
              "    }\n",
              "\n",
              "    [theme=dark] .colab-df-convert {\n",
              "      background-color: #3B4455;\n",
              "      fill: #D2E3FC;\n",
              "    }\n",
              "\n",
              "    [theme=dark] .colab-df-convert:hover {\n",
              "      background-color: #434B5C;\n",
              "      box-shadow: 0px 1px 3px 1px rgba(0, 0, 0, 0.15);\n",
              "      filter: drop-shadow(0px 1px 2px rgba(0, 0, 0, 0.3));\n",
              "      fill: #FFFFFF;\n",
              "    }\n",
              "  </style>\n",
              "\n",
              "      <script>\n",
              "        const buttonEl =\n",
              "          document.querySelector('#df-5c2c5cb4-a3b6-42ca-9bb4-0f5956ab91f8 button.colab-df-convert');\n",
              "        buttonEl.style.display =\n",
              "          google.colab.kernel.accessAllowed ? 'block' : 'none';\n",
              "\n",
              "        async function convertToInteractive(key) {\n",
              "          const element = document.querySelector('#df-5c2c5cb4-a3b6-42ca-9bb4-0f5956ab91f8');\n",
              "          const dataTable =\n",
              "            await google.colab.kernel.invokeFunction('convertToInteractive',\n",
              "                                                     [key], {});\n",
              "          if (!dataTable) return;\n",
              "\n",
              "          const docLinkHtml = 'Like what you see? Visit the ' +\n",
              "            '<a target=\"_blank\" href=https://colab.research.google.com/notebooks/data_table.ipynb>data table notebook</a>'\n",
              "            + ' to learn more about interactive tables.';\n",
              "          element.innerHTML = '';\n",
              "          dataTable['output_type'] = 'display_data';\n",
              "          await google.colab.output.renderOutput(dataTable, element);\n",
              "          const docLink = document.createElement('div');\n",
              "          docLink.innerHTML = docLinkHtml;\n",
              "          element.appendChild(docLink);\n",
              "        }\n",
              "      </script>\n",
              "    </div>\n",
              "  </div>\n",
              "  "
            ]
          },
          "metadata": {},
          "execution_count": 11
        }
      ]
    },
    {
      "cell_type": "markdown",
      "source": [
        "A continuación vamos a juntar las dos columnas (Año y Mes) en una sóla columna (fecha) con el formato \"Mes/Año\" y finalmente se reposiciona la columna \"fecha\" a la primera posición."
      ],
      "metadata": {
        "id": "cmDk5wC9cBMQ"
      }
    },
    {
      "cell_type": "code",
      "source": [
        "df1_final['fecha'] = df1_final['Mes'].astype(str) + '/' + df1_final['Año'].astype(str)\n",
        "\n",
        "columns = df1_final.columns.tolist()\n",
        "columns.insert(0, columns.pop(columns.index('fecha')))\n",
        "df1_final = df1_final.reindex(columns=columns)\n",
        "\n",
        "del df1_final[\"Año\"]\n",
        "del df1_final[\"Mes\"]"
      ],
      "metadata": {
        "id": "8EYyyua5cBxC"
      },
      "execution_count": null,
      "outputs": []
    },
    {
      "cell_type": "code",
      "source": [
        "df1_final.head()"
      ],
      "metadata": {
        "id": "XM7AgAKmcDli",
        "colab": {
          "base_uri": "https://localhost:8080/",
          "height": 206
        },
        "outputId": "1df93705-2243-47cd-9f2b-a7791b29cb24"
      },
      "execution_count": null,
      "outputs": [
        {
          "output_type": "execute_result",
          "data": {
            "text/plain": [
              "    fecha  producto precio_medio_kg consumo_per_capita\n",
              "0  1/2018   PATATAS            0,78               2,38\n",
              "1  1/2018   TOMATES            1,69               0,88\n",
              "2  1/2018  CEBOLLAS            1,01               0,57\n",
              "3  1/2018      AJOS            4,17               0,06\n",
              "4  1/2018     COLES            1,08               0,15"
            ],
            "text/html": [
              "\n",
              "  <div id=\"df-e71d625b-1407-4fca-8dbf-ab1db6181825\">\n",
              "    <div class=\"colab-df-container\">\n",
              "      <div>\n",
              "<style scoped>\n",
              "    .dataframe tbody tr th:only-of-type {\n",
              "        vertical-align: middle;\n",
              "    }\n",
              "\n",
              "    .dataframe tbody tr th {\n",
              "        vertical-align: top;\n",
              "    }\n",
              "\n",
              "    .dataframe thead th {\n",
              "        text-align: right;\n",
              "    }\n",
              "</style>\n",
              "<table border=\"1\" class=\"dataframe\">\n",
              "  <thead>\n",
              "    <tr style=\"text-align: right;\">\n",
              "      <th></th>\n",
              "      <th>fecha</th>\n",
              "      <th>producto</th>\n",
              "      <th>precio_medio_kg</th>\n",
              "      <th>consumo_per_capita</th>\n",
              "    </tr>\n",
              "  </thead>\n",
              "  <tbody>\n",
              "    <tr>\n",
              "      <th>0</th>\n",
              "      <td>1/2018</td>\n",
              "      <td>PATATAS</td>\n",
              "      <td>0,78</td>\n",
              "      <td>2,38</td>\n",
              "    </tr>\n",
              "    <tr>\n",
              "      <th>1</th>\n",
              "      <td>1/2018</td>\n",
              "      <td>TOMATES</td>\n",
              "      <td>1,69</td>\n",
              "      <td>0,88</td>\n",
              "    </tr>\n",
              "    <tr>\n",
              "      <th>2</th>\n",
              "      <td>1/2018</td>\n",
              "      <td>CEBOLLAS</td>\n",
              "      <td>1,01</td>\n",
              "      <td>0,57</td>\n",
              "    </tr>\n",
              "    <tr>\n",
              "      <th>3</th>\n",
              "      <td>1/2018</td>\n",
              "      <td>AJOS</td>\n",
              "      <td>4,17</td>\n",
              "      <td>0,06</td>\n",
              "    </tr>\n",
              "    <tr>\n",
              "      <th>4</th>\n",
              "      <td>1/2018</td>\n",
              "      <td>COLES</td>\n",
              "      <td>1,08</td>\n",
              "      <td>0,15</td>\n",
              "    </tr>\n",
              "  </tbody>\n",
              "</table>\n",
              "</div>\n",
              "      <button class=\"colab-df-convert\" onclick=\"convertToInteractive('df-e71d625b-1407-4fca-8dbf-ab1db6181825')\"\n",
              "              title=\"Convert this dataframe to an interactive table.\"\n",
              "              style=\"display:none;\">\n",
              "        \n",
              "  <svg xmlns=\"http://www.w3.org/2000/svg\" height=\"24px\"viewBox=\"0 0 24 24\"\n",
              "       width=\"24px\">\n",
              "    <path d=\"M0 0h24v24H0V0z\" fill=\"none\"/>\n",
              "    <path d=\"M18.56 5.44l.94 2.06.94-2.06 2.06-.94-2.06-.94-.94-2.06-.94 2.06-2.06.94zm-11 1L8.5 8.5l.94-2.06 2.06-.94-2.06-.94L8.5 2.5l-.94 2.06-2.06.94zm10 10l.94 2.06.94-2.06 2.06-.94-2.06-.94-.94-2.06-.94 2.06-2.06.94z\"/><path d=\"M17.41 7.96l-1.37-1.37c-.4-.4-.92-.59-1.43-.59-.52 0-1.04.2-1.43.59L10.3 9.45l-7.72 7.72c-.78.78-.78 2.05 0 2.83L4 21.41c.39.39.9.59 1.41.59.51 0 1.02-.2 1.41-.59l7.78-7.78 2.81-2.81c.8-.78.8-2.07 0-2.86zM5.41 20L4 18.59l7.72-7.72 1.47 1.35L5.41 20z\"/>\n",
              "  </svg>\n",
              "      </button>\n",
              "      \n",
              "  <style>\n",
              "    .colab-df-container {\n",
              "      display:flex;\n",
              "      flex-wrap:wrap;\n",
              "      gap: 12px;\n",
              "    }\n",
              "\n",
              "    .colab-df-convert {\n",
              "      background-color: #E8F0FE;\n",
              "      border: none;\n",
              "      border-radius: 50%;\n",
              "      cursor: pointer;\n",
              "      display: none;\n",
              "      fill: #1967D2;\n",
              "      height: 32px;\n",
              "      padding: 0 0 0 0;\n",
              "      width: 32px;\n",
              "    }\n",
              "\n",
              "    .colab-df-convert:hover {\n",
              "      background-color: #E2EBFA;\n",
              "      box-shadow: 0px 1px 2px rgba(60, 64, 67, 0.3), 0px 1px 3px 1px rgba(60, 64, 67, 0.15);\n",
              "      fill: #174EA6;\n",
              "    }\n",
              "\n",
              "    [theme=dark] .colab-df-convert {\n",
              "      background-color: #3B4455;\n",
              "      fill: #D2E3FC;\n",
              "    }\n",
              "\n",
              "    [theme=dark] .colab-df-convert:hover {\n",
              "      background-color: #434B5C;\n",
              "      box-shadow: 0px 1px 3px 1px rgba(0, 0, 0, 0.15);\n",
              "      filter: drop-shadow(0px 1px 2px rgba(0, 0, 0, 0.3));\n",
              "      fill: #FFFFFF;\n",
              "    }\n",
              "  </style>\n",
              "\n",
              "      <script>\n",
              "        const buttonEl =\n",
              "          document.querySelector('#df-e71d625b-1407-4fca-8dbf-ab1db6181825 button.colab-df-convert');\n",
              "        buttonEl.style.display =\n",
              "          google.colab.kernel.accessAllowed ? 'block' : 'none';\n",
              "\n",
              "        async function convertToInteractive(key) {\n",
              "          const element = document.querySelector('#df-e71d625b-1407-4fca-8dbf-ab1db6181825');\n",
              "          const dataTable =\n",
              "            await google.colab.kernel.invokeFunction('convertToInteractive',\n",
              "                                                     [key], {});\n",
              "          if (!dataTable) return;\n",
              "\n",
              "          const docLinkHtml = 'Like what you see? Visit the ' +\n",
              "            '<a target=\"_blank\" href=https://colab.research.google.com/notebooks/data_table.ipynb>data table notebook</a>'\n",
              "            + ' to learn more about interactive tables.';\n",
              "          element.innerHTML = '';\n",
              "          dataTable['output_type'] = 'display_data';\n",
              "          await google.colab.output.renderOutput(dataTable, element);\n",
              "          const docLink = document.createElement('div');\n",
              "          docLink.innerHTML = docLinkHtml;\n",
              "          element.appendChild(docLink);\n",
              "        }\n",
              "      </script>\n",
              "    </div>\n",
              "  </div>\n",
              "  "
            ]
          },
          "metadata": {},
          "execution_count": 13
        }
      ]
    },
    {
      "cell_type": "markdown",
      "source": [
        "Aquí se comprueba qué tipo es cada columna por si hay que cambiar alguna."
      ],
      "metadata": {
        "id": "zQ21XG7NAG0u"
      }
    },
    {
      "cell_type": "code",
      "source": [
        "df1_final.dtypes"
      ],
      "metadata": {
        "colab": {
          "base_uri": "https://localhost:8080/"
        },
        "id": "LLWd8KtYAJQJ",
        "outputId": "0b6d5f2c-e73b-470b-e672-e690704c81c5"
      },
      "execution_count": null,
      "outputs": [
        {
          "output_type": "execute_result",
          "data": {
            "text/plain": [
              "fecha                 object\n",
              "producto              object\n",
              "precio_medio_kg       object\n",
              "consumo_per_capita    object\n",
              "dtype: object"
            ]
          },
          "metadata": {},
          "execution_count": 14
        }
      ]
    },
    {
      "cell_type": "markdown",
      "source": [
        "Finalmente se decide que si y se cambia el tipo de la columna \"Mes\" a string, el de la columna \"Producto\" a string, el de la columna \"Precio_medio_kg\" a float y el de la columna \"Consumo_per_capita\" a float."
      ],
      "metadata": {
        "id": "CSRQ9wSTANBQ"
      }
    },
    {
      "cell_type": "code",
      "source": [
        "df1_final['fecha'] = df1_final['fecha'].astype('string')\n",
        "df1_final['producto'] = df1_final['producto'].astype('string')\n",
        "\n",
        "df1_final['precio_medio_kg'] = df1_final['precio_medio_kg'].str.replace(',', '.').astype(float)\n",
        "df1_final['consumo_per_capita'] = df1_final['consumo_per_capita'].str.replace(',', '.').astype(float)\n",
        "\n",
        "df1_final.dtypes"
      ],
      "metadata": {
        "colab": {
          "base_uri": "https://localhost:8080/"
        },
        "id": "ZUsyaD3CANoa",
        "outputId": "f0338d23-07b9-429b-e20e-dde4c08dc626"
      },
      "execution_count": null,
      "outputs": [
        {
          "output_type": "execute_result",
          "data": {
            "text/plain": [
              "fecha                  string\n",
              "producto               string\n",
              "precio_medio_kg       float64\n",
              "consumo_per_capita    float64\n",
              "dtype: object"
            ]
          },
          "metadata": {},
          "execution_count": 15
        }
      ]
    },
    {
      "cell_type": "markdown",
      "source": [
        "## Descarga de dataset resultante\n",
        "Se tranforma el dataframe a csv separando las celdas por el símbolo \";\", que es el símbolo que lee excel por defecto como separador."
      ],
      "metadata": {
        "id": "TZFJUwgbAsXy"
      }
    },
    {
      "cell_type": "code",
      "source": [
        "df1_final.to_csv('df_Spain_data.csv', sep = ';', index = False)\n",
        "\n",
        "files.download('df_Spain_data.csv')"
      ],
      "metadata": {
        "id": "TtOM9rJFAtHZ"
      },
      "execution_count": null,
      "outputs": []
    },
    {
      "cell_type": "markdown",
      "source": [
        "## Profiling del dataset 1\n",
        "\n",
        "Hacemos profiling del primer dataset para poder analizar mejor los datos contenidos en el dataset final una vez lo hemos limpiado."
      ],
      "metadata": {
        "id": "Kyxf6d-a_n_A"
      }
    },
    {
      "cell_type": "code",
      "source": [
        "profile = ProfileReport(df1_final, title=\"Consumo alimentario en España\", html={'style':{'full_width': True}})\n",
        "profile.to_notebook_iframe()"
      ],
      "metadata": {
        "id": "eRr7EyXy_oVY"
      },
      "execution_count": null,
      "outputs": []
    },
    {
      "cell_type": "markdown",
      "source": [
        "# Dataset 2 - Consumo comunidades\n",
        "\n",
        "Este dataset está centrado en los precios, volumen y valores de ventas mensuales de ciertos productos agrícolas en las comunidades de Andalucía, Madrid, Castilla-La Mancha, Castilla y León, y Cataluña.\n",
        "\n",
        "La principal intención de este dataset es ser empleado para la hipótesis 2: \n",
        "\n",
        "*Las zonas con mayor densidad de población tienen un mayor número de ventas de productos agrícolas.*"
      ],
      "metadata": {
        "id": "Y5Iqq3ff8vAE"
      }
    },
    {
      "cell_type": "markdown",
      "source": [
        "### Descripción de valores y columnas en el dataset final\n",
        "Dentro de este dataset nos encontramos un total de 22 columnas:\n",
        "\n",
        "*   **Producto**: lista de los productos contenidos en el dataset.\n",
        "*   **Fecha**: muestra el mes y el año de los datos.\n",
        "\n",
        "En las siguientes columnas nos hemos ahorrado en explicarlas por separado, pues son varias columnas que muestran la misma información pero modificando de qué comunidad (COM) provienen los datos. Por lo que se pueden resumir en lo siguiente:\n",
        "*   **Precio COM (€/Kg)**: Estas columnas muestran el valor del precio medio de un producto en una fecha para cada región.\n",
        "*   **Valor COM (miles €)**: Estas columnas muestran el valor total de las ganancias de las ventas de un producto en una fecha para cada región.\n",
        "*   **Volumen COM (miles kg)**: Estas columnas muestran el volumen total de las ventas de un producto en una fecha para cada región.\n",
        "*   **Población COM**: Estas columnas muestran la población total de una región con valores anuales."
      ],
      "metadata": {
        "id": "YtiGsS3782BX"
      }
    },
    {
      "cell_type": "markdown",
      "source": [
        "### Proceso de limpieza de los datos\n",
        "\n",
        "En este apartado explicaremos qué procesos se han seguido para limpiar los datos, de dónde provienen estos y qué información contenían originalmente.\n",
        "\n",
        "Los datos originales de los datos con los productos agrícolas provienen en 3 archivos excel, cuya información viene dividida por meses en hojas de excel. Junto a esto, tenemos otro dataset que contiene la información de la población española por comunidades.\n",
        "\n",
        "Para poder leer correctamente los datos de los primeros 3 archivos se crea un bucle *for* que itere entre los archivos con otro bucle anidado que itere por las hojas dentro de estos.\n",
        "\n",
        "Para poder seleccionar los datos que nos interesan guardamos en la primera iteración del bucle la lista de los productos que nos interesen en la lista llamada ***products***. Esta lista nos sirve para poder hacer un *merge* entre la lista *products* y la hoja con todos los datos que vamos leyendo. De esta manera almacenamos en la variable ***mes_aux*** los productos con su datos de ventas para el mes que estemos leyendo.\n",
        "\n",
        "En cuanto a los datos de la población, debemos leer el archivo almacenado en **poblacion** iterativamente de forma inversa, tal que para cada comunidad autónoma tenemos que asignar la población de esta desde 2018 hasta 2020. Se recorre al revés, con el índice i, debido a que la información en el fichero original viene desde el año más reciente hasta el último. De este fichero sólo nos fijamos en los datos de cada comunidad, filtrándolos uno a uno.\n",
        "\n",
        "Tras filtrar los datos del mes en cuestión, eliminamos los duplicados que haya. Esto se debe a que los datos originales muestra información sobre distintos tipos de tomates, pimientos o judías verdes, entre otros, con la única distinción visual de incluírlos en subapartados (como productos frescos, de conserva o congelados) que no podemos diferenciar a través de código. Por esto, se decide eliminar los duplicados, manteniendo únicamente la primera aparición de los datos, ya que sabemos que son los datos de las hortalizas y frutas frescas, no de conserva ni congelados."
      ],
      "metadata": {
        "id": "EEMM0iahn4E_"
      }
    },
    {
      "cell_type": "code",
      "source": [
        "# Declaración de variables\n",
        "archivos = ['2018datosmensualesdelpaneldeconsumoalimentarioenhogares_tcm30-520451_tcm30-520451.xlsx',\n",
        "        '2019datosmensualesdelpaneldeconsumoalimentarioenhogares_tcm30-5204501_tcm30-520450.xlsx',\n",
        "        '2020-datos-mensuales-panel-hogares-ccaa-rev-nov2021_tcm30-540244.xlsx']\n",
        "poblacion = '2915bsc.csv'\n",
        "\n",
        "# Indice para avanzar en el fichero de forma inversa\n",
        "i = 2\n",
        "\n",
        "lista_mes = []\n",
        "lista_mes_2020 = []\n",
        "meses = {'Enero':'01', 'Febrero':'02', 'Marzo':'03', 'Abril':'04', 'Mayo':'05', 'Junio':'06', 'Julio':'07',\n",
        "         'Agosto':'08', 'Septiembre':'09', 'Octubre':'10', 'Noviembre':'11', 'Diciembre':'12'}\n",
        "first = True\n",
        "pob = pd.read_csv(poblacion, sep=';', encoding='latin-1')\n",
        "products = pd.DataFrame(columns = ['CONSUMO EN HOGARES'])\n",
        "mes_aux = pd.DataFrame(columns = ['Producto', 'Precio AND (€/Kg)', 'Precio MAD (€/Kg)', 'Precio CLM (€/Kg)', 'Precio CYL (€/Kg)',\n",
        "             'Precio CAT (€/Kg)', 'Valor AND (miles €)', 'Valor MAD (miles €)', 'Valor CLM (miles €)', \n",
        "             'Valor CYL (miles €)', 'Valor CAT (miles €)', 'Volumen AND (miles kg)', 'Volumen MAD (miles kg)',\n",
        "             'Volumen CLM (miles kg)', 'Volumen CYL (miles kg)', 'Volumen CAT (miles kg)', 'Poblacion AND',\n",
        "             'Poblacion MAD', 'Poblacion CLM', 'Poblacion CYL', 'Poblacion CAT'])\n",
        "\n",
        "# Bucle para la limpieza y obtención de los datos de los datasets originales\n",
        "for file in archivos:\n",
        "  año = file[0:4]\n",
        "  condition = True\n",
        "  \n",
        "  # Diferenciamos entre 2018/19 y 2020 al cambiar de formato para nombrar las hojas del excel\n",
        "  if año == '2020':\n",
        "    meses = {k.lower(): v for k, v in meses.items()}\n",
        "    condition = False\n",
        "\n",
        "  for mes in meses:\n",
        "    xl = pd.read_excel(file, sheet_name = mes)\n",
        "    mes_2020 = mes_aux = pd.DataFrame(columns = ['Producto', 'Fecha', 'Precio AND (€/Kg)', \n",
        "                                                 'Precio MAD (€/Kg)', 'Valor AND (miles €)', \n",
        "                                                 'Valor MAD (miles €)', 'Volumen AND (miles kg)', \n",
        "                                                 'Volumen MAD (miles kg)'])\n",
        "    # Cogemos los productos que nos interesan\n",
        "    if mes == 'Enero' and first:\n",
        "      products['CONSUMO EN HOGARES'] = xl.iloc[420:465]['CONSUMO EN HOGARES']\n",
        "      first = False\n",
        "    \n",
        "    # Juntamos el dataset base con la lista de productos con un merge para obtener solo los datos de interés\n",
        "    first_month = pd.merge(products, xl, on='CONSUMO EN HOGARES', how='left')\n",
        "    mes_aux[['Producto', 'Precio AND (€/Kg)', 'Precio MAD (€/Kg)', 'Precio CLM (€/Kg)', 'Precio CYL (€/Kg)',\n",
        "             'Precio CAT (€/Kg)', 'Valor AND (miles €)', 'Valor MAD (miles €)', 'Valor CLM (miles €)', \n",
        "             'Valor CYL (miles €)', 'Valor CAT (miles €)', 'Volumen AND (miles kg)', 'Volumen MAD (miles kg)',\n",
        "             'Volumen CLM (miles kg)', 'Volumen CYL (miles kg)', 'Volumen CAT (miles kg)']] = first_month[['CONSUMO EN HOGARES', \n",
        "             'Unnamed: 40', 'Unnamed: 46', 'Unnamed: 52', 'Unnamed: 64', 'Unnamed: 10',\n",
        "             'Unnamed: 41', 'Unnamed: 47', 'Unnamed: 53', 'Unnamed: 65', 'Unnamed: 11',\n",
        "             'Unnamed: 42', 'Unnamed: 48', 'Unnamed: 54', 'Unnamed: 66', 'Unnamed: 12',]]\n",
        "    \n",
        "    mes_aux['Fecha'] = meses[mes]+'/'+año\n",
        "\n",
        "    # Filtramos los datos de la población de cada comunidad y los almacenamos\n",
        "    mes_aux['Poblacion AND'] = pob.iloc[3+i]['Total'] \n",
        "    mes_aux['Poblacion MAD'] = pob.iloc[39+i]['Total']\n",
        "    mes_aux['Poblacion CLM'] = pob.iloc[24+i]['Total']\n",
        "    mes_aux['Poblacion CYL'] = pob.iloc[21+i]['Total']\n",
        "    mes_aux['Poblacion CAT'] = pob.iloc[27+i]['Total']\n",
        "\n",
        "    # Limpieza de duplicados\n",
        "    mes_aux = mes_aux.drop_duplicates(subset=['Producto'], keep='first')\n",
        "\n",
        "    # Unimos los datos de cada mes y los almacenamos en un dataset aparte\n",
        "    lista_mes.append(mes_aux)\n",
        "    dataset_comunidades = pd.concat(lista_mes)\n",
        "  i-=1\n",
        "\n",
        "# Limpieza de nulos y normalización de los datos\n",
        "dataset_comunidades = dataset_comunidades.convert_dtypes()\n",
        "dataset_comunidades = dataset_comunidades.fillna(0.0)\n",
        "\n",
        "# Nos quitamos los valores que no nos interesan\n",
        "not_wanted = ['T.FRUTAS FRESCAS', 'T.HORTALIZAS FRESCAS', 'OTRAS FRUTAS FRESCAS', \n",
        "              'OTR.HORTALIZAS/VERD.', 'VERD./HORT. IV GAMA']\n",
        "ds_clean = dataset_comunidades\n",
        "\n",
        "for product in not_wanted:\n",
        "  ds_clean = ds_clean.drop(ds_clean[ds_clean['Producto'] == product].index)\n",
        "\n",
        "ds_clean = ds_clean.round(decimals=3)\n",
        "ds_clean.reset_index(drop=True)"
      ],
      "metadata": {
        "id": "8M-QF7SvGG98"
      },
      "execution_count": null,
      "outputs": []
    },
    {
      "cell_type": "markdown",
      "source": [
        "## Descarga de dataset resultante\n",
        "Se tranforma el dataframe a csv separando las celdas por el símbolo \";\", que es el símbolo que lee excel por defecto como separador."
      ],
      "metadata": {
        "id": "VnX1i15R8yB1"
      }
    },
    {
      "cell_type": "code",
      "source": [
        "# Ejecute estas líneas de código si quiere descargar el fichero con el dataset resultante\n",
        "\n",
        "ds_clean.to_csv('df_Spain_comunidades.csv', sep = ';', index = False)\n",
        "\n",
        "files.download('df_Spain_comunidades.csv')"
      ],
      "metadata": {
        "colab": {
          "base_uri": "https://localhost:8080/",
          "height": 17
        },
        "id": "r6oSmSQo8msq",
        "outputId": "5fe05a78-2614-4d91-a1cd-79fc94a9b300"
      },
      "execution_count": null,
      "outputs": [
        {
          "output_type": "display_data",
          "data": {
            "text/plain": [
              "<IPython.core.display.Javascript object>"
            ],
            "application/javascript": [
              "\n",
              "    async function download(id, filename, size) {\n",
              "      if (!google.colab.kernel.accessAllowed) {\n",
              "        return;\n",
              "      }\n",
              "      const div = document.createElement('div');\n",
              "      const label = document.createElement('label');\n",
              "      label.textContent = `Downloading \"${filename}\": `;\n",
              "      div.appendChild(label);\n",
              "      const progress = document.createElement('progress');\n",
              "      progress.max = size;\n",
              "      div.appendChild(progress);\n",
              "      document.body.appendChild(div);\n",
              "\n",
              "      const buffers = [];\n",
              "      let downloaded = 0;\n",
              "\n",
              "      const channel = await google.colab.kernel.comms.open(id);\n",
              "      // Send a message to notify the kernel that we're ready.\n",
              "      channel.send({})\n",
              "\n",
              "      for await (const message of channel.messages) {\n",
              "        // Send a message to notify the kernel that we're ready.\n",
              "        channel.send({})\n",
              "        if (message.buffers) {\n",
              "          for (const buffer of message.buffers) {\n",
              "            buffers.push(buffer);\n",
              "            downloaded += buffer.byteLength;\n",
              "            progress.value = downloaded;\n",
              "          }\n",
              "        }\n",
              "      }\n",
              "      const blob = new Blob(buffers, {type: 'application/binary'});\n",
              "      const a = document.createElement('a');\n",
              "      a.href = window.URL.createObjectURL(blob);\n",
              "      a.download = filename;\n",
              "      div.appendChild(a);\n",
              "      a.click();\n",
              "      div.remove();\n",
              "    }\n",
              "  "
            ]
          },
          "metadata": {}
        },
        {
          "output_type": "display_data",
          "data": {
            "text/plain": [
              "<IPython.core.display.Javascript object>"
            ],
            "application/javascript": [
              "download(\"download_ca5cf596-344d-40ad-9f20-fb1fb9f0ba89\", \"df_Spain_comunidades.csv\", 254857)"
            ]
          },
          "metadata": {}
        }
      ]
    },
    {
      "cell_type": "markdown",
      "source": [
        "## Profiling del dataset 2\n",
        "\n",
        "Hacemos profiling del segundo dataset para poder analizar mejor los datos contenidos en el dataset final una vez lo hemos limpiado."
      ],
      "metadata": {
        "id": "sRclc1ktvAdE"
      }
    },
    {
      "cell_type": "code",
      "source": [
        "# Profiling of our dataset\n",
        "profile = ProfileReport(ds_clean, title=\"Andalucia-Madrid\", html={'style':{'full_width': True}})\n",
        "profile.to_notebook_iframe()"
      ],
      "metadata": {
        "id": "-rxBxdosOemM"
      },
      "execution_count": null,
      "outputs": []
    },
    {
      "cell_type": "markdown",
      "source": [
        "# Dataset 4 - Comercio Exterior de España"
      ],
      "metadata": {
        "id": "YlZNkt3F4Edo"
      }
    },
    {
      "cell_type": "markdown",
      "source": [
        "##Descripción del Dataset 4\n"
      ],
      "metadata": {
        "id": "JtJDpsyzH0I6"
      }
    },
    {
      "cell_type": "code",
      "source": [
        "df = pd.read_csv(\"Dataset4.- Comercio Exterior de España.txt\", sep =\"|\")"
      ],
      "metadata": {
        "id": "dNv2CymKKAmd"
      },
      "execution_count": null,
      "outputs": []
    },
    {
      "cell_type": "markdown",
      "source": [
        "En este Dataset nos encontramos con importaciones y exportaciones de frutas y hortalizas en España desde 2018 hasta noviembre de 2020. Estos datos vienen detallados por meses, incluyendo un resumen para cado producto resumiendo su importación y exportación en un año desde enero hasta diciembre.\n",
        "Entrando en detalle, en este dataset nos encontramos con: \n",
        "primero con la fecha del dato, a continuación, el país extranjero que \n",
        "\n",
        "*   Period: la fecha\n",
        "*   Reporter: pais extranjero que importa/exporta\n",
        "*   Partner: España\n",
        "*   Product: el porducto que importamos/exportamos\n",
        "*   Flow: si es una operación de importación o exportación\n",
        "*   Indicators: si medimos el producto por su valor monetario o por su peso\n",
        "*   Value: valor asociado a la anterior característica"
      ],
      "metadata": {
        "id": "zI2FPj3uKAXG"
      }
    },
    {
      "cell_type": "markdown",
      "source": [
        "##Limpieza de Datos\n",
        "En primer lugar nos hemos dado cuenta de la redundancia de filas empleada para indicarnos el valor en euros del producto importado/exportado y su valor en peso. El fichero original utilizaba dos filas para ambos datos y hemos conseguido unir ambas filas para reducir el tamaño del dataset a la mitad. El resultado de este cambio nos ha originado dos nuevas columnas:\n",
        "\n",
        "*   Value_in_Euros: valor en € del producto importado/exportado\n",
        "*   Quantity_in_100kg: peso del producto medido en 100 kg\n",
        "\n",
        "A su vez, hemos eliminado las columnas Indicators y Value.\n",
        "\n",
        "Anteriormente en Value hemos reemplazado ':' por un 0 para no tener problemas. Porque cuando no había registros de que hubiese importación o exportación, el dataset almacenaba ':'.\n",
        "\n",
        "Las dos nuevas columnas, que hemos comentado con anterioridad, necesitan sufrir una transformación de string a entero y ahí nos hemos dado cuenta que algunos datos numéricos tienen un espacio entre sus números (por ejemplo 270 934), por lo que hemos necesitado reemplazar ' ' por ''. A continuación hemos hecho su transformación \n",
        "\n"
      ],
      "metadata": {
        "id": "ZbGDsk5LJoZa"
      }
    },
    {
      "cell_type": "code",
      "source": [
        "df['FLOW'] = df['FLOW'].astype('category')\n",
        "df['REPORTER'] = df['REPORTER'].astype('category')\n",
        "df.Value= df.Value.replace({\":\":0})\n",
        "\n",
        "translator = GoogleTranslator(source=\"en\", target=\"es\")\n",
        "\n",
        "counts1 = df.groupby(\"INDICATORS\").size()\n",
        "df1 = df[(df.INDICATORS == \"VALUE_IN_EUROS\")]\n",
        "df2 = df[(df.INDICATORS == \"QUANTITY_IN_100KG\")]\n",
        "df2.index=df1.index\n",
        "df1.insert(7, \"VALUE_IN_EUROS\", df1.Value, True)\n",
        "df1.insert(8, \"QUANTITY_IN_100KG\", df2.Value, True)\n",
        "\n",
        "df1.VALUE_IN_EUROS= df1.VALUE_IN_EUROS.replace({' ':''}, regex=True)\n",
        "df1.QUANTITY_IN_100KG= df1.QUANTITY_IN_100KG.replace({' ':''}, regex=True)\n",
        "df1['VALUE_IN_EUROS'] = df1['VALUE_IN_EUROS'].astype(int)\n",
        "df1['QUANTITY_IN_100KG'] = df1['QUANTITY_IN_100KG'].astype(int)\n",
        "\n",
        "\n",
        "del(df1['INDICATORS'])\n",
        "del(df1['Value'])\n",
        "\n",
        "df1.isnull().values.any()"
      ],
      "metadata": {
        "colab": {
          "base_uri": "https://localhost:8080/"
        },
        "id": "p4xBTnFJ4LGU",
        "outputId": "a7369af8-137b-4bdf-99ec-9ef1a118b712"
      },
      "execution_count": null,
      "outputs": [
        {
          "output_type": "stream",
          "name": "stderr",
          "text": [
            "<ipython-input-69-f05fc7974a4d>:16: SettingWithCopyWarning: \n",
            "A value is trying to be set on a copy of a slice from a DataFrame.\n",
            "Try using .loc[row_indexer,col_indexer] = value instead\n",
            "\n",
            "See the caveats in the documentation: https://pandas.pydata.org/pandas-docs/stable/user_guide/indexing.html#returning-a-view-versus-a-copy\n",
            "  df1['VALUE_IN_EUROS'] = df1['VALUE_IN_EUROS'].astype(int)\n",
            "<ipython-input-69-f05fc7974a4d>:17: SettingWithCopyWarning: \n",
            "A value is trying to be set on a copy of a slice from a DataFrame.\n",
            "Try using .loc[row_indexer,col_indexer] = value instead\n",
            "\n",
            "See the caveats in the documentation: https://pandas.pydata.org/pandas-docs/stable/user_guide/indexing.html#returning-a-view-versus-a-copy\n",
            "  df1['QUANTITY_IN_100KG'] = df1['QUANTITY_IN_100KG'].astype(int)\n"
          ]
        },
        {
          "output_type": "execute_result",
          "data": {
            "text/plain": [
              "False"
            ]
          },
          "metadata": {},
          "execution_count": 69
        }
      ]
    },
    {
      "cell_type": "markdown",
      "source": [
        "Dentro de los datos, en la columna PERIOD se encuentran datos que recogen el total de importaciones y exportaciones en un país. Esto se encuentra en el valor 'Jan.-Dec. AÑO', siendo *AÑO* sustituible por el año que estemos leyendo. Estos valores los eliminamos ya que no nos son útiles, pues estamos más interesados en los valores de forma mensual."
      ],
      "metadata": {
        "id": "-7K_n33RDddD"
      }
    },
    {
      "cell_type": "code",
      "source": [
        "df1.set_index(['PERIOD'], inplace=True)\n",
        "\n",
        "df1 = df1.drop('Jan.-Dec. 2018')\n",
        "df1 = df1.drop('Jan.-Dec. 2019')\n",
        "df1 = df1.drop('Jan.-Dec. 2020')\n",
        "\n",
        "df1 = df1.reset_index()"
      ],
      "metadata": {
        "id": "GIqQmAR6Dcsd"
      },
      "execution_count": null,
      "outputs": []
    },
    {
      "cell_type": "markdown",
      "source": [
        "Traducimos los productos que se encontraban en inglés para facilitarnos su uso y su integración con otros datasets. Además hemos eliminado la columna Partner porque solo tenía un valor y lo hemos considerado innecesario "
      ],
      "metadata": {
        "id": "Kxh_qV8cTliU"
      }
    },
    {
      "cell_type": "code",
      "source": [
        "counts = df1.groupby(\"PRODUCT\").size()\n",
        "for i in counts.index:\n",
        "  df1.PRODUCT= df1.PRODUCT.replace({i:translator.translate(i)})\n",
        "df1 = df1.drop(columns=['PARTNER'])"
      ],
      "metadata": {
        "id": "p_iZ-YUo5-Ts"
      },
      "execution_count": null,
      "outputs": []
    },
    {
      "cell_type": "markdown",
      "source": [
        "Comprobamos que los tipos de los datos están correctamente, como vemos que no lo están, decidimos cambiar los tipos de las columnas que están mal."
      ],
      "metadata": {
        "id": "mZpyIWP6WPLT"
      }
    },
    {
      "cell_type": "code",
      "source": [
        "df1.dtypes"
      ],
      "metadata": {
        "id": "FPKp5rWtczdR",
        "outputId": "04b54b93-944c-4dcb-ad59-08041a8739a5",
        "colab": {
          "base_uri": "https://localhost:8080/"
        }
      },
      "execution_count": null,
      "outputs": [
        {
          "output_type": "execute_result",
          "data": {
            "text/plain": [
              "PERIOD                 object\n",
              "REPORTER             category\n",
              "PRODUCT                object\n",
              "FLOW                 category\n",
              "VALUE_IN_EUROS          int64\n",
              "QUANTITY_IN_100KG       int64\n",
              "dtype: object"
            ]
          },
          "metadata": {},
          "execution_count": 72
        }
      ]
    },
    {
      "cell_type": "code",
      "source": [
        "# Normalizamos el nombre de las columnas y sus tipos para poder trabajar correctamente con otros datasets\n",
        "df1 = df1.convert_dtypes()\n",
        "\n",
        "df1.rename(columns = {'PERIOD' : 'fecha',\n",
        "                      'REPORTER' : 'pais',\n",
        "                      'PRODUCT' : 'producto',\n",
        "                      'FLOW' : 'flow',\n",
        "                      'VALUE_IN_EUROS' : 'valor en euros',\n",
        "                      'QUANTITY_IN_100KG' : 'cantidad en 100Kg'}, inplace = True)\n",
        "\n",
        "# Hay alguna columna que no se cambia al usar el metodo convert_dtypes por lo que hay que cambiarla a mano\n",
        "df1['pais'] = df1['pais'].astype('string')"
      ],
      "metadata": {
        "id": "89WVdH9bFjH5"
      },
      "execution_count": null,
      "outputs": []
    },
    {
      "cell_type": "code",
      "source": [
        "df1.dtypes"
      ],
      "metadata": {
        "colab": {
          "base_uri": "https://localhost:8080/"
        },
        "id": "Hu5AkLl-KgIb",
        "outputId": "44b27e27-af98-4753-8114-11b122437d62"
      },
      "execution_count": null,
      "outputs": [
        {
          "output_type": "execute_result",
          "data": {
            "text/plain": [
              "fecha                  string\n",
              "pais                   string\n",
              "producto               string\n",
              "flow                 category\n",
              "valor en euros          Int64\n",
              "cantidad en 100Kg       Int64\n",
              "dtype: object"
            ]
          },
          "metadata": {},
          "execution_count": 74
        }
      ]
    },
    {
      "cell_type": "markdown",
      "source": [
        "La columna 'fecha' contiene las fechas como 'Mes. Año' lo cual no nos es útil para comparar valores con el resto de datasets, por lo que lo modificamos para que siga el formato 'XX/YYYY' siendo XX el mes y YYYY el año."
      ],
      "metadata": {
        "id": "NJR6sTbYWmo2"
      }
    },
    {
      "cell_type": "code",
      "source": [
        "trad_meses = {\n",
        "    \"Jan\": \"1\",\n",
        "    \"Feb\": \"2\",\n",
        "    \"Mar\": \"3\",\n",
        "    \"Apr\": \"4\",\n",
        "    \"May\": \"5\",\n",
        "    \"Jun\": \"6\",\n",
        "    \"Jul\": \"7\",\n",
        "    \"Aug\": \"8\",\n",
        "    \"Sep\": \"9\",\n",
        "    \"Oct\": \"10\",\n",
        "    \"Nov\": \"11\",\n",
        "    \"Dec\": \"12\",\n",
        "}\n",
        "\n",
        "def convert_month_to_number(value):\n",
        "    # Utiliza una expresión regular para buscar el nombre del mes en el valor dado\n",
        "    regex = r\"^(\\w+)\"\n",
        "    month_name = re.search(regex, value).group(1)\n",
        "\n",
        "    # Utiliza el diccionario trad_meses para cambiar el nombre del mes por un número\n",
        "    month_number = trad_meses[month_name]\n",
        "\n",
        "    # Devuelve el valor dado con el mes en formato numérico\n",
        "    return month_number + \"/\" + value[-4:]\n",
        "\n",
        "# Aplica la función \"convert_month_to_number\" a la columna \"fecha\" usando la función .apply()\n",
        "df1[\"fecha\"] = df1[\"fecha\"].apply(convert_month_to_number)"
      ],
      "metadata": {
        "id": "gadc2i6cO_5_"
      },
      "execution_count": null,
      "outputs": []
    },
    {
      "cell_type": "markdown",
      "source": [
        "## Descarga de dataset resultante\n",
        "Se tranforma el dataframe a csv separando las celdas por el símbolo \";\", que es el símbolo que lee excel por defecto como separador."
      ],
      "metadata": {
        "id": "FNxO3oDR8773"
      }
    },
    {
      "cell_type": "code",
      "source": [
        "# Ejecute estas líneas de código si quiere descargar el fichero con el dataset resultante\n",
        "\n",
        "df1.to_csv('df_import_export.csv', sep = ';', index=False)\n",
        "\n",
        "files.download('df_import_export.csv')"
      ],
      "metadata": {
        "id": "hf1GPfIl88P1"
      },
      "execution_count": null,
      "outputs": []
    },
    {
      "cell_type": "markdown",
      "source": [
        "## Profiling del dataset 4\n",
        "\n",
        "> Bloque con sangría\n",
        "\n",
        "\n",
        "\n",
        "Hacemos profiling del *cuarto* dataset para poder analizar mejor los datos contenidos en el dataset final una vez lo hemos limpiado."
      ],
      "metadata": {
        "id": "YgBJWsrp6UuV"
      }
    },
    {
      "cell_type": "code",
      "source": [
        "profile = ProfileReport(df1, title=\"Imports-Exports\", html={'style':{'full_width': True}})\n",
        "profile.to_notebook_iframe()"
      ],
      "metadata": {
        "id": "ez_GuEwv6aTw"
      },
      "execution_count": null,
      "outputs": []
    },
    {
      "cell_type": "markdown",
      "source": [
        "# Descripción: Dataset 5\n"
      ],
      "metadata": {
        "id": "sq48phZYy-zB"
      }
    },
    {
      "cell_type": "markdown",
      "source": [
        "## Carga de Datos: Dataset 5\n",
        "Carga del **Dataset5_Coronavirus_cases.txt**, cuyo continido son los **casos de Corona virus**, formato de archivo tipo **.txt**. Tipo de saparadores entre los datos **\"|\"**."
      ],
      "metadata": {
        "id": "0tHo9Bm7zM09"
      }
    },
    {
      "cell_type": "code",
      "source": [
        "data5 = pd.read_csv(\"Dataset5_Coronavirus_cases.txt\", sep=\"|\")\n",
        "data5.columns"
      ],
      "metadata": {
        "colab": {
          "base_uri": "https://localhost:8080/"
        },
        "id": "m93mR2xSzOy5",
        "outputId": "ac9c684f-a4f7-4104-f632-5a9f00a6d3de"
      },
      "execution_count": null,
      "outputs": [
        {
          "output_type": "execute_result",
          "data": {
            "text/plain": [
              "Index(['dateRep', 'day', 'month', 'year', 'cases', 'deaths',\n",
              "       'countriesAndTerritories', 'geoId', 'countryterritoryCode',\n",
              "       'popData2019', 'continentExp',\n",
              "       'Cumulative_number_for_14_days_of_COVID-19_cases_per_100000'],\n",
              "      dtype='object')"
            ]
          },
          "metadata": {},
          "execution_count": 16
        }
      ]
    },
    {
      "cell_type": "markdown",
      "source": [
        "Columnas descartadas: \n",
        "- **'day'**: innecesaria, ya se utilizara **'fecha'** para describir la fecha conforme a las necesidades del estudio.\n",
        "- **'dateRep'**: redundante, ya se utilizan **'fecha'** para describir la fecha, en un formato más útil para la selección con respecto al estudio a realizar.\n",
        "- **'geoId'**: irrelevante, es más descriptivo el uso de **'pais'** para visualizar los datos por país.\n",
        "- **'countryterritoryCode'**: al igual de 'geoId' es una abreviatura del país al que hace referencia.\n",
        "- **'popData2019'**: irrelevante, para el estudio los valores de la población durante 2019 son innecesario. No se va a comparar la muestra de 2019 con muestras de los años siguientes.\n",
        "- **'continentExp'**: irrelevante más halla de para darle forma a los datos. Para el estudio solo se van a tomar en cuenta los países de Europa, por lo cual no es necesario hacer referencia al continente de dichos países.\n",
        "\n",
        "Con respecto a los otros datos (columnas) descartados, se utilizar columnas que se han obtenido como resultado de operar con estas.\n",
        "\n",
        "Para obtener los datos de la forma deseada se va a operar con los siguientes datos del dataset 5, también serán renombradas las columnas para facilitar el trabajo con los datos:"
      ],
      "metadata": {
        "id": "ln1iuSFM5NPC"
      }
    },
    {
      "cell_type": "code",
      "source": [
        "data5 = data5[['countriesAndTerritories', 'month', 'year', 'cases', 'deaths', 'continentExp',\n",
        "               'Cumulative_number_for_14_days_of_COVID-19_cases_per_100000']]\n",
        "\n",
        "data5.rename(columns = {'countriesAndTerritories' : 'pais',\n",
        "                        'month' : 'mes',\n",
        "                        'year' : 'año',\n",
        "                        'cases' : 'casos',\n",
        "                        'deaths' : 'muertes',\n",
        "                        'continentExp' : 'continente',\n",
        "                        'Cumulative_number_for_14_days_of_COVID-19_cases_per_100000' : 'incicencia_acumulada'\n",
        "                        }, inplace = True)\n",
        "\n",
        "data5['fecha'] = data5['mes'].astype(str) + '/' + data5['año'].astype(str)"
      ],
      "metadata": {
        "id": "e_4qjY_GzHE8",
        "colab": {
          "base_uri": "https://localhost:8080/"
        },
        "outputId": "80d7fbc5-4ba8-4ffd-87dd-c1a57bd30ba7"
      },
      "execution_count": null,
      "outputs": [
        {
          "output_type": "stream",
          "name": "stderr",
          "text": [
            "/usr/local/lib/python3.8/dist-packages/pandas/core/frame.py:5039: SettingWithCopyWarning: \n",
            "A value is trying to be set on a copy of a slice from a DataFrame\n",
            "\n",
            "See the caveats in the documentation: https://pandas.pydata.org/pandas-docs/stable/user_guide/indexing.html#returning-a-view-versus-a-copy\n",
            "  return super().rename(\n"
          ]
        }
      ]
    },
    {
      "cell_type": "markdown",
      "source": [
        "## Limpieza de Datos \n",
        "\n",
        "Datos incompletos, mal organizados, errores, etc. Hay que intentar identificarlos y tratarlos antes de comenzar el análisis, o mediante borrado, sustitución, etc.\n",
        "\n",
        "Eliminación de los datos cuyo valor de 'continente' se **distinto de Europa** al encontrarse fuera del rango de valores del estudio."
      ],
      "metadata": {
        "id": "NUz7lWQLzso_"
      }
    },
    {
      "cell_type": "code",
      "source": [
        "data5.set_index(['continente'], inplace=True)\n",
        "\n",
        "data5 = data5.drop('Africa')\n",
        "data5 = data5.drop('America')\n",
        "data5 = data5.drop('Asia')\n",
        "data5 = data5.drop('Oceania')\n",
        "data5 = data5.drop('Other')\n",
        "\n",
        "data5 = data5[['pais', 'fecha', 'casos', 'muertes', 'incicencia_acumulada']]"
      ],
      "metadata": {
        "id": "CLB7jcsK58Vm"
      },
      "execution_count": null,
      "outputs": []
    },
    {
      "cell_type": "markdown",
      "source": [
        "Conversion de los valores **incidencia_acumulada** de *'object'* a *'float'*. Asi como la eliminar los valores nulos rellenando los campos vacios con **0.0**, debido a que en algunos casos, cuando la **incidencia_acumulada** es menor que 0 esta no viene representada."
      ],
      "metadata": {
        "id": "rTPu_dHB6W9G"
      }
    },
    {
      "cell_type": "code",
      "source": [
        "data5['incicencia_acumulada'] = data5['incicencia_acumulada'].str.replace(',', '.').astype(float)\n",
        "data5['incicencia_acumulada'] = data5['incicencia_acumulada'].fillna(0.0)"
      ],
      "metadata": {
        "id": "KdIJcynb6b3p"
      },
      "execution_count": null,
      "outputs": []
    },
    {
      "cell_type": "markdown",
      "source": [
        "Creamos las columnas **'casos_mes'**, **'muertes_mes'** e **'incicencia_media_mes'** necesarias para el estudio: "
      ],
      "metadata": {
        "id": "bk7kGWw7ieEs"
      }
    },
    {
      "cell_type": "code",
      "source": [
        "data5.set_index(['pais', 'fecha'], inplace=True)\n",
        "\n",
        "data5['casos_mes'] = data5.groupby(['pais', 'fecha'])['casos'].sum()\n",
        "data5['muertes_mes'] = data5.groupby(['pais', 'fecha'])['muertes'].sum()\n",
        "data5['incicencia_media_mes'] = data5.groupby(['pais', 'fecha'])['incicencia_acumulada'].mean()"
      ],
      "metadata": {
        "id": "fQKjWuZ66m5d"
      },
      "execution_count": null,
      "outputs": []
    },
    {
      "cell_type": "markdown",
      "source": [
        "Definimos el dataset con las colunas relevantes para el estudio, así como a la vez descartando las que no sean necesarias:"
      ],
      "metadata": {
        "id": "Nc1IdwwSiuuJ"
      }
    },
    {
      "cell_type": "code",
      "source": [
        "data5 = data5[['casos_mes', 'muertes_mes', 'incicencia_media_mes']]\n",
        "data5 = data5.drop_duplicates()"
      ],
      "metadata": {
        "id": "aRKGnG2G6pY5"
      },
      "execution_count": null,
      "outputs": []
    },
    {
      "cell_type": "markdown",
      "source": [
        "Comprobamos que no quedan valores nulos en el dataset 5:"
      ],
      "metadata": {
        "id": "iQ2zUhn9jlFV"
      }
    },
    {
      "cell_type": "code",
      "source": [
        "data5.isnull().values.any()"
      ],
      "metadata": {
        "colab": {
          "base_uri": "https://localhost:8080/"
        },
        "id": "tkknlrKfjln4",
        "outputId": "06e804df-5329-4dab-ae70-9ebbb3dcc162"
      },
      "execution_count": null,
      "outputs": [
        {
          "output_type": "execute_result",
          "data": {
            "text/plain": [
              "False"
            ]
          },
          "metadata": {},
          "execution_count": 22
        }
      ]
    },
    {
      "cell_type": "markdown",
      "source": [
        "Para el trabajó con los datos, reestablecemos el valor de **índice** al asignado **por defecto**."
      ],
      "metadata": {
        "id": "Lrw3ic8jjrBH"
      }
    },
    {
      "cell_type": "code",
      "source": [
        "data5 = data5.reset_index() "
      ],
      "metadata": {
        "id": "Qvl_RAAXjrfZ"
      },
      "execution_count": null,
      "outputs": []
    },
    {
      "cell_type": "markdown",
      "source": [
        "Para mantener el mismo orden que otros datasets, movemos de posición la columna fecha al principio.\n",
        "Además modificamos el tipo de las columnas de fecha y país."
      ],
      "metadata": {
        "id": "ykQP3rhlKN7W"
      }
    },
    {
      "cell_type": "code",
      "source": [
        "data5['fecha'] = data5['fecha'].astype('string')\n",
        "data5['pais'] = data5['pais'].astype('string')"
      ],
      "metadata": {
        "id": "gbbojeQ0Nrm-"
      },
      "execution_count": null,
      "outputs": []
    },
    {
      "cell_type": "code",
      "source": [
        "columns_d5 = data5.columns.tolist()\n",
        "columns_d5.insert(0, columns_d5.pop(columns_d5.index('fecha')))\n",
        "data5 = data5.reindex(columns = columns_d5)"
      ],
      "metadata": {
        "id": "LjY4wyW2KNkF"
      },
      "execution_count": null,
      "outputs": []
    },
    {
      "cell_type": "markdown",
      "source": [
        "## Descarga de dataset resultante\n",
        "Se tranforma el dataframe a csv separando las celdas por el símbolo \";\", que es el símbolo que lee excel por defecto como separador."
      ],
      "metadata": {
        "id": "ulUccbUt9WyM"
      }
    },
    {
      "cell_type": "code",
      "source": [
        "# Ejecute estas líneas de código si quiere descargar el fichero con el dataset resultante\n",
        "\n",
        "data5.to_csv('df_casos_covid.csv', sep = ';', index=False)\n",
        "\n",
        "files.download('df_casos_covid.csv')"
      ],
      "metadata": {
        "colab": {
          "base_uri": "https://localhost:8080/",
          "height": 17
        },
        "id": "moINtQ189XDq",
        "outputId": "c60f021c-08b5-40c8-aa92-42d5f6acd74c"
      },
      "execution_count": null,
      "outputs": [
        {
          "output_type": "display_data",
          "data": {
            "text/plain": [
              "<IPython.core.display.Javascript object>"
            ],
            "application/javascript": [
              "\n",
              "    async function download(id, filename, size) {\n",
              "      if (!google.colab.kernel.accessAllowed) {\n",
              "        return;\n",
              "      }\n",
              "      const div = document.createElement('div');\n",
              "      const label = document.createElement('label');\n",
              "      label.textContent = `Downloading \"${filename}\": `;\n",
              "      div.appendChild(label);\n",
              "      const progress = document.createElement('progress');\n",
              "      progress.max = size;\n",
              "      div.appendChild(progress);\n",
              "      document.body.appendChild(div);\n",
              "\n",
              "      const buffers = [];\n",
              "      let downloaded = 0;\n",
              "\n",
              "      const channel = await google.colab.kernel.comms.open(id);\n",
              "      // Send a message to notify the kernel that we're ready.\n",
              "      channel.send({})\n",
              "\n",
              "      for await (const message of channel.messages) {\n",
              "        // Send a message to notify the kernel that we're ready.\n",
              "        channel.send({})\n",
              "        if (message.buffers) {\n",
              "          for (const buffer of message.buffers) {\n",
              "            buffers.push(buffer);\n",
              "            downloaded += buffer.byteLength;\n",
              "            progress.value = downloaded;\n",
              "          }\n",
              "        }\n",
              "      }\n",
              "      const blob = new Blob(buffers, {type: 'application/binary'});\n",
              "      const a = document.createElement('a');\n",
              "      a.href = window.URL.createObjectURL(blob);\n",
              "      a.download = filename;\n",
              "      div.appendChild(a);\n",
              "      a.click();\n",
              "      div.remove();\n",
              "    }\n",
              "  "
            ]
          },
          "metadata": {}
        },
        {
          "output_type": "display_data",
          "data": {
            "text/plain": [
              "<IPython.core.display.Javascript object>"
            ],
            "application/javascript": [
              "download(\"download_6a65e651-ac3d-4ea0-a06e-a827d28efdc3\", \"df_casos_covid.csv\", 21710)"
            ]
          },
          "metadata": {}
        }
      ]
    },
    {
      "cell_type": "markdown",
      "source": [
        "## Profiling del dataset 5\n",
        "\n",
        "Hacemos profiling del quinto dataset para poder analizar mejor los datos contenidos en el dataset final una vez lo hemos limpiado."
      ],
      "metadata": {
        "id": "92Vh2vzu0HgF"
      }
    },
    {
      "cell_type": "code",
      "source": [
        "profile = ProfileReport(data5, title=\"Coronavirus cases\", html={'style':{'full_width': True}})\n",
        "profile.to_notebook_iframe()"
      ],
      "metadata": {
        "id": "FEDDsEUq0PR-"
      },
      "execution_count": null,
      "outputs": []
    },
    {
      "cell_type": "markdown",
      "source": [
        "# Tarjetas de datos\n",
        "\n",
        "Aquí se encuentran los procesamientos realizados para la obtención de las distintas tarjetas de datos para las hipótesis. Únicamente se encuentra los procesos para las tarjetas de datos 1 y 3, debido a que la tarjeta de datos 2 se obtiene tras los procesos realizados en la limpieza del dataset 2. De todos modos, se encontrará abajo un pequeño subapartado en el que se puede descargar la tarjeta, pero es necesario haber ejecutado la parte de limpieza del apartado **'Dataset 2 - Consumo comunidades'**"
      ],
      "metadata": {
        "id": "evrRJFtV_CRU"
      }
    },
    {
      "cell_type": "markdown",
      "source": [
        "## Creación dataset para H1\n",
        "\n",
        "Este apartado consiste en unir los datasets 4 y 5 con el fin de crear un nuevo dataset para la hipótesis número 1 del proyecto.\n",
        "\n",
        "La operación consiste en unir la información de ambos basándonos en los valores para las columnas fecha y país."
      ],
      "metadata": {
        "id": "trCpWHIFy5GD"
      }
    },
    {
      "cell_type": "code",
      "source": [
        "h1 = pd.merge(df1, data5, on=['fecha', 'pais'], how='inner')\n",
        "h1.head()"
      ],
      "metadata": {
        "colab": {
          "base_uri": "https://localhost:8080/",
          "height": 206
        },
        "id": "4cCWGmf7zXmZ",
        "outputId": "840083bc-d48d-4efa-b506-2cb66bd62469"
      },
      "execution_count": null,
      "outputs": [
        {
          "output_type": "execute_result",
          "data": {
            "text/plain": [
              "    fecha     pais                                           producto    flow  \\\n",
              "0  2/2020  Austria     Bananos, frescos (exc. ​​plátanos) (2012-2500)  IMPORT   \n",
              "1  2/2020  Austria     Bananos, frescos (exc. ​​plátanos) (2012-2500)  EXPORT   \n",
              "2  2/2020  Austria  Coles de Bruselas, frescas o refrigeradas (198...  IMPORT   \n",
              "3  2/2020  Austria  Coles de Bruselas, frescas o refrigeradas (198...  EXPORT   \n",
              "4  2/2020  Austria        Pepinos, frescos o refrigerados (1998-2500)  IMPORT   \n",
              "\n",
              "   valor en euros  cantidad en 100Kg  casos_mes  muertes_mes  \\\n",
              "0               0                  0          7            0   \n",
              "1               0                  0          7            0   \n",
              "2               0                  0          7            0   \n",
              "3               0                  0          7            0   \n",
              "4         2148605              12912          7            0   \n",
              "\n",
              "   incicencia_media_mes  \n",
              "0              0.006228  \n",
              "1              0.006228  \n",
              "2              0.006228  \n",
              "3              0.006228  \n",
              "4              0.006228  "
            ],
            "text/html": [
              "\n",
              "  <div id=\"df-953adb4f-0555-499b-8f4b-13c459f93893\">\n",
              "    <div class=\"colab-df-container\">\n",
              "      <div>\n",
              "<style scoped>\n",
              "    .dataframe tbody tr th:only-of-type {\n",
              "        vertical-align: middle;\n",
              "    }\n",
              "\n",
              "    .dataframe tbody tr th {\n",
              "        vertical-align: top;\n",
              "    }\n",
              "\n",
              "    .dataframe thead th {\n",
              "        text-align: right;\n",
              "    }\n",
              "</style>\n",
              "<table border=\"1\" class=\"dataframe\">\n",
              "  <thead>\n",
              "    <tr style=\"text-align: right;\">\n",
              "      <th></th>\n",
              "      <th>fecha</th>\n",
              "      <th>pais</th>\n",
              "      <th>producto</th>\n",
              "      <th>flow</th>\n",
              "      <th>valor en euros</th>\n",
              "      <th>cantidad en 100Kg</th>\n",
              "      <th>casos_mes</th>\n",
              "      <th>muertes_mes</th>\n",
              "      <th>incicencia_media_mes</th>\n",
              "    </tr>\n",
              "  </thead>\n",
              "  <tbody>\n",
              "    <tr>\n",
              "      <th>0</th>\n",
              "      <td>2/2020</td>\n",
              "      <td>Austria</td>\n",
              "      <td>Bananos, frescos (exc. ​​plátanos) (2012-2500)</td>\n",
              "      <td>IMPORT</td>\n",
              "      <td>0</td>\n",
              "      <td>0</td>\n",
              "      <td>7</td>\n",
              "      <td>0</td>\n",
              "      <td>0.006228</td>\n",
              "    </tr>\n",
              "    <tr>\n",
              "      <th>1</th>\n",
              "      <td>2/2020</td>\n",
              "      <td>Austria</td>\n",
              "      <td>Bananos, frescos (exc. ​​plátanos) (2012-2500)</td>\n",
              "      <td>EXPORT</td>\n",
              "      <td>0</td>\n",
              "      <td>0</td>\n",
              "      <td>7</td>\n",
              "      <td>0</td>\n",
              "      <td>0.006228</td>\n",
              "    </tr>\n",
              "    <tr>\n",
              "      <th>2</th>\n",
              "      <td>2/2020</td>\n",
              "      <td>Austria</td>\n",
              "      <td>Coles de Bruselas, frescas o refrigeradas (198...</td>\n",
              "      <td>IMPORT</td>\n",
              "      <td>0</td>\n",
              "      <td>0</td>\n",
              "      <td>7</td>\n",
              "      <td>0</td>\n",
              "      <td>0.006228</td>\n",
              "    </tr>\n",
              "    <tr>\n",
              "      <th>3</th>\n",
              "      <td>2/2020</td>\n",
              "      <td>Austria</td>\n",
              "      <td>Coles de Bruselas, frescas o refrigeradas (198...</td>\n",
              "      <td>EXPORT</td>\n",
              "      <td>0</td>\n",
              "      <td>0</td>\n",
              "      <td>7</td>\n",
              "      <td>0</td>\n",
              "      <td>0.006228</td>\n",
              "    </tr>\n",
              "    <tr>\n",
              "      <th>4</th>\n",
              "      <td>2/2020</td>\n",
              "      <td>Austria</td>\n",
              "      <td>Pepinos, frescos o refrigerados (1998-2500)</td>\n",
              "      <td>IMPORT</td>\n",
              "      <td>2148605</td>\n",
              "      <td>12912</td>\n",
              "      <td>7</td>\n",
              "      <td>0</td>\n",
              "      <td>0.006228</td>\n",
              "    </tr>\n",
              "  </tbody>\n",
              "</table>\n",
              "</div>\n",
              "      <button class=\"colab-df-convert\" onclick=\"convertToInteractive('df-953adb4f-0555-499b-8f4b-13c459f93893')\"\n",
              "              title=\"Convert this dataframe to an interactive table.\"\n",
              "              style=\"display:none;\">\n",
              "        \n",
              "  <svg xmlns=\"http://www.w3.org/2000/svg\" height=\"24px\"viewBox=\"0 0 24 24\"\n",
              "       width=\"24px\">\n",
              "    <path d=\"M0 0h24v24H0V0z\" fill=\"none\"/>\n",
              "    <path d=\"M18.56 5.44l.94 2.06.94-2.06 2.06-.94-2.06-.94-.94-2.06-.94 2.06-2.06.94zm-11 1L8.5 8.5l.94-2.06 2.06-.94-2.06-.94L8.5 2.5l-.94 2.06-2.06.94zm10 10l.94 2.06.94-2.06 2.06-.94-2.06-.94-.94-2.06-.94 2.06-2.06.94z\"/><path d=\"M17.41 7.96l-1.37-1.37c-.4-.4-.92-.59-1.43-.59-.52 0-1.04.2-1.43.59L10.3 9.45l-7.72 7.72c-.78.78-.78 2.05 0 2.83L4 21.41c.39.39.9.59 1.41.59.51 0 1.02-.2 1.41-.59l7.78-7.78 2.81-2.81c.8-.78.8-2.07 0-2.86zM5.41 20L4 18.59l7.72-7.72 1.47 1.35L5.41 20z\"/>\n",
              "  </svg>\n",
              "      </button>\n",
              "      \n",
              "  <style>\n",
              "    .colab-df-container {\n",
              "      display:flex;\n",
              "      flex-wrap:wrap;\n",
              "      gap: 12px;\n",
              "    }\n",
              "\n",
              "    .colab-df-convert {\n",
              "      background-color: #E8F0FE;\n",
              "      border: none;\n",
              "      border-radius: 50%;\n",
              "      cursor: pointer;\n",
              "      display: none;\n",
              "      fill: #1967D2;\n",
              "      height: 32px;\n",
              "      padding: 0 0 0 0;\n",
              "      width: 32px;\n",
              "    }\n",
              "\n",
              "    .colab-df-convert:hover {\n",
              "      background-color: #E2EBFA;\n",
              "      box-shadow: 0px 1px 2px rgba(60, 64, 67, 0.3), 0px 1px 3px 1px rgba(60, 64, 67, 0.15);\n",
              "      fill: #174EA6;\n",
              "    }\n",
              "\n",
              "    [theme=dark] .colab-df-convert {\n",
              "      background-color: #3B4455;\n",
              "      fill: #D2E3FC;\n",
              "    }\n",
              "\n",
              "    [theme=dark] .colab-df-convert:hover {\n",
              "      background-color: #434B5C;\n",
              "      box-shadow: 0px 1px 3px 1px rgba(0, 0, 0, 0.15);\n",
              "      filter: drop-shadow(0px 1px 2px rgba(0, 0, 0, 0.3));\n",
              "      fill: #FFFFFF;\n",
              "    }\n",
              "  </style>\n",
              "\n",
              "      <script>\n",
              "        const buttonEl =\n",
              "          document.querySelector('#df-953adb4f-0555-499b-8f4b-13c459f93893 button.colab-df-convert');\n",
              "        buttonEl.style.display =\n",
              "          google.colab.kernel.accessAllowed ? 'block' : 'none';\n",
              "\n",
              "        async function convertToInteractive(key) {\n",
              "          const element = document.querySelector('#df-953adb4f-0555-499b-8f4b-13c459f93893');\n",
              "          const dataTable =\n",
              "            await google.colab.kernel.invokeFunction('convertToInteractive',\n",
              "                                                     [key], {});\n",
              "          if (!dataTable) return;\n",
              "\n",
              "          const docLinkHtml = 'Like what you see? Visit the ' +\n",
              "            '<a target=\"_blank\" href=https://colab.research.google.com/notebooks/data_table.ipynb>data table notebook</a>'\n",
              "            + ' to learn more about interactive tables.';\n",
              "          element.innerHTML = '';\n",
              "          dataTable['output_type'] = 'display_data';\n",
              "          await google.colab.output.renderOutput(dataTable, element);\n",
              "          const docLink = document.createElement('div');\n",
              "          docLink.innerHTML = docLinkHtml;\n",
              "          element.appendChild(docLink);\n",
              "        }\n",
              "      </script>\n",
              "    </div>\n",
              "  </div>\n",
              "  "
            ]
          },
          "metadata": {},
          "execution_count": 76
        }
      ]
    },
    {
      "cell_type": "markdown",
      "source": [
        "Comprobamos que no haya duplicados en caso de que tengamos que corregirlo."
      ],
      "metadata": {
        "id": "UA9Ge5Hg7f0u"
      }
    },
    {
      "cell_type": "code",
      "source": [
        "h1.isnull().values.any()"
      ],
      "metadata": {
        "colab": {
          "base_uri": "https://localhost:8080/"
        },
        "id": "LoxmgHimK85F",
        "outputId": "0b69eecf-e645-4ffa-b973-1e9b93c1c0e8"
      },
      "execution_count": null,
      "outputs": [
        {
          "output_type": "execute_result",
          "data": {
            "text/plain": [
              "False"
            ]
          },
          "metadata": {},
          "execution_count": 77
        }
      ]
    },
    {
      "cell_type": "code",
      "source": [
        "h1.to_csv('tarjeta_datos_1.csv', sep = ';', index=False)\n",
        "\n",
        "files.download('tarjeta_datos_1.csv')"
      ],
      "metadata": {
        "id": "Z8qdsxcoBBg2"
      },
      "execution_count": null,
      "outputs": []
    },
    {
      "cell_type": "markdown",
      "source": [
        "## Creación tarjeta de datos 2\n",
        "\n",
        "En este subapartado se puede descargar la tarjeta de datos 2, obtenida al ejecutar por completo el apartado 'Dataset 2'."
      ],
      "metadata": {
        "id": "2VOwDf_hAMb4"
      }
    },
    {
      "cell_type": "code",
      "source": [
        "ds_clean.to_csv('tarjeta_datos_2.csv', sep = ';', index = False)\n",
        "\n",
        "files.download('tarjeta_datos_2.csv')"
      ],
      "metadata": {
        "id": "fcWGdU40Apsu"
      },
      "execution_count": null,
      "outputs": []
    },
    {
      "cell_type": "markdown",
      "source": [
        "## Creación tarjeta de datos 3\n",
        "\n",
        "Este apartado consiste en unir los datasets 1 y 5 con el fin de crear un nuevo dataset para las hipótesis número 3 y 4 del proyecto."
      ],
      "metadata": {
        "id": "wkm4TYJya7q5"
      }
    },
    {
      "cell_type": "markdown",
      "source": [
        "Lo primero que tenemos que hacer es filtrar los datos del dataset 1 de cajamar para obtener sólo su fecha y del dataset 5 de cajamar para sacar la fecha y los casos por mes de España. Una vez extraidos los mezclamos con un merge y lo almacenamos en df_merged.\n",
        "\n",
        "Con este dataframe tenemos únicamente las fechas en las que ha habido casos de Covid en España junto con el número total de casos en dicho mes para así poder juntar estos dataframes con el dataset 1, obteniendo el dataset h3. El inconveniente al juntar y obtener el dataset h3 es que podemos tener valores nulos para las fechas en las que no hay casos de Covid, por lo que tenemos que controlar eso además de borrar los duplicados que haya.\n",
        "\n",
        "En este dataset tenemos la información de las ventas en España junto al número de casos de Covid que ha habido en cada mes."
      ],
      "metadata": {
        "id": "uuQfATxg4OIi"
      }
    },
    {
      "cell_type": "code",
      "source": [
        "df1_fecha = df1_final['fecha']\n",
        "df5_españa = data5.loc[data5['pais'] == 'Spain']\n",
        "df2_casos_mes = df5_españa[['fecha', 'casos_mes']]\n",
        "\n",
        "df_merged = pd.merge(df1_fecha, df2_casos_mes, left_on='fecha', right_on='fecha')\n",
        "\n",
        "h3 = pd.merge(df1_final, df_merged, on='fecha', how='left')\n",
        "\n",
        "h3 = h3.drop_duplicates()\n",
        "h3 = h3.fillna(0)\n",
        "\n",
        "h3.head()"
      ],
      "metadata": {
        "id": "cn6aWvSYbAOM",
        "colab": {
          "base_uri": "https://localhost:8080/",
          "height": 206
        },
        "outputId": "5a4e7914-e014-4b65-9d63-04289ef88c22"
      },
      "execution_count": null,
      "outputs": [
        {
          "output_type": "execute_result",
          "data": {
            "text/plain": [
              "    fecha  producto  precio_medio_kg  consumo_per_capita  casos_mes\n",
              "0  1/2018   PATATAS             0.78                2.38        0.0\n",
              "1  1/2018   TOMATES             1.69                0.88        0.0\n",
              "2  1/2018  CEBOLLAS             1.01                0.57        0.0\n",
              "3  1/2018      AJOS             4.17                0.06        0.0\n",
              "4  1/2018     COLES             1.08                0.15        0.0"
            ],
            "text/html": [
              "\n",
              "  <div id=\"df-8752668f-1e15-4909-83c5-702d2ce5f751\">\n",
              "    <div class=\"colab-df-container\">\n",
              "      <div>\n",
              "<style scoped>\n",
              "    .dataframe tbody tr th:only-of-type {\n",
              "        vertical-align: middle;\n",
              "    }\n",
              "\n",
              "    .dataframe tbody tr th {\n",
              "        vertical-align: top;\n",
              "    }\n",
              "\n",
              "    .dataframe thead th {\n",
              "        text-align: right;\n",
              "    }\n",
              "</style>\n",
              "<table border=\"1\" class=\"dataframe\">\n",
              "  <thead>\n",
              "    <tr style=\"text-align: right;\">\n",
              "      <th></th>\n",
              "      <th>fecha</th>\n",
              "      <th>producto</th>\n",
              "      <th>precio_medio_kg</th>\n",
              "      <th>consumo_per_capita</th>\n",
              "      <th>casos_mes</th>\n",
              "    </tr>\n",
              "  </thead>\n",
              "  <tbody>\n",
              "    <tr>\n",
              "      <th>0</th>\n",
              "      <td>1/2018</td>\n",
              "      <td>PATATAS</td>\n",
              "      <td>0.78</td>\n",
              "      <td>2.38</td>\n",
              "      <td>0.0</td>\n",
              "    </tr>\n",
              "    <tr>\n",
              "      <th>1</th>\n",
              "      <td>1/2018</td>\n",
              "      <td>TOMATES</td>\n",
              "      <td>1.69</td>\n",
              "      <td>0.88</td>\n",
              "      <td>0.0</td>\n",
              "    </tr>\n",
              "    <tr>\n",
              "      <th>2</th>\n",
              "      <td>1/2018</td>\n",
              "      <td>CEBOLLAS</td>\n",
              "      <td>1.01</td>\n",
              "      <td>0.57</td>\n",
              "      <td>0.0</td>\n",
              "    </tr>\n",
              "    <tr>\n",
              "      <th>3</th>\n",
              "      <td>1/2018</td>\n",
              "      <td>AJOS</td>\n",
              "      <td>4.17</td>\n",
              "      <td>0.06</td>\n",
              "      <td>0.0</td>\n",
              "    </tr>\n",
              "    <tr>\n",
              "      <th>4</th>\n",
              "      <td>1/2018</td>\n",
              "      <td>COLES</td>\n",
              "      <td>1.08</td>\n",
              "      <td>0.15</td>\n",
              "      <td>0.0</td>\n",
              "    </tr>\n",
              "  </tbody>\n",
              "</table>\n",
              "</div>\n",
              "      <button class=\"colab-df-convert\" onclick=\"convertToInteractive('df-8752668f-1e15-4909-83c5-702d2ce5f751')\"\n",
              "              title=\"Convert this dataframe to an interactive table.\"\n",
              "              style=\"display:none;\">\n",
              "        \n",
              "  <svg xmlns=\"http://www.w3.org/2000/svg\" height=\"24px\"viewBox=\"0 0 24 24\"\n",
              "       width=\"24px\">\n",
              "    <path d=\"M0 0h24v24H0V0z\" fill=\"none\"/>\n",
              "    <path d=\"M18.56 5.44l.94 2.06.94-2.06 2.06-.94-2.06-.94-.94-2.06-.94 2.06-2.06.94zm-11 1L8.5 8.5l.94-2.06 2.06-.94-2.06-.94L8.5 2.5l-.94 2.06-2.06.94zm10 10l.94 2.06.94-2.06 2.06-.94-2.06-.94-.94-2.06-.94 2.06-2.06.94z\"/><path d=\"M17.41 7.96l-1.37-1.37c-.4-.4-.92-.59-1.43-.59-.52 0-1.04.2-1.43.59L10.3 9.45l-7.72 7.72c-.78.78-.78 2.05 0 2.83L4 21.41c.39.39.9.59 1.41.59.51 0 1.02-.2 1.41-.59l7.78-7.78 2.81-2.81c.8-.78.8-2.07 0-2.86zM5.41 20L4 18.59l7.72-7.72 1.47 1.35L5.41 20z\"/>\n",
              "  </svg>\n",
              "      </button>\n",
              "      \n",
              "  <style>\n",
              "    .colab-df-container {\n",
              "      display:flex;\n",
              "      flex-wrap:wrap;\n",
              "      gap: 12px;\n",
              "    }\n",
              "\n",
              "    .colab-df-convert {\n",
              "      background-color: #E8F0FE;\n",
              "      border: none;\n",
              "      border-radius: 50%;\n",
              "      cursor: pointer;\n",
              "      display: none;\n",
              "      fill: #1967D2;\n",
              "      height: 32px;\n",
              "      padding: 0 0 0 0;\n",
              "      width: 32px;\n",
              "    }\n",
              "\n",
              "    .colab-df-convert:hover {\n",
              "      background-color: #E2EBFA;\n",
              "      box-shadow: 0px 1px 2px rgba(60, 64, 67, 0.3), 0px 1px 3px 1px rgba(60, 64, 67, 0.15);\n",
              "      fill: #174EA6;\n",
              "    }\n",
              "\n",
              "    [theme=dark] .colab-df-convert {\n",
              "      background-color: #3B4455;\n",
              "      fill: #D2E3FC;\n",
              "    }\n",
              "\n",
              "    [theme=dark] .colab-df-convert:hover {\n",
              "      background-color: #434B5C;\n",
              "      box-shadow: 0px 1px 3px 1px rgba(0, 0, 0, 0.15);\n",
              "      filter: drop-shadow(0px 1px 2px rgba(0, 0, 0, 0.3));\n",
              "      fill: #FFFFFF;\n",
              "    }\n",
              "  </style>\n",
              "\n",
              "      <script>\n",
              "        const buttonEl =\n",
              "          document.querySelector('#df-8752668f-1e15-4909-83c5-702d2ce5f751 button.colab-df-convert');\n",
              "        buttonEl.style.display =\n",
              "          google.colab.kernel.accessAllowed ? 'block' : 'none';\n",
              "\n",
              "        async function convertToInteractive(key) {\n",
              "          const element = document.querySelector('#df-8752668f-1e15-4909-83c5-702d2ce5f751');\n",
              "          const dataTable =\n",
              "            await google.colab.kernel.invokeFunction('convertToInteractive',\n",
              "                                                     [key], {});\n",
              "          if (!dataTable) return;\n",
              "\n",
              "          const docLinkHtml = 'Like what you see? Visit the ' +\n",
              "            '<a target=\"_blank\" href=https://colab.research.google.com/notebooks/data_table.ipynb>data table notebook</a>'\n",
              "            + ' to learn more about interactive tables.';\n",
              "          element.innerHTML = '';\n",
              "          dataTable['output_type'] = 'display_data';\n",
              "          await google.colab.output.renderOutput(dataTable, element);\n",
              "          const docLink = document.createElement('div');\n",
              "          docLink.innerHTML = docLinkHtml;\n",
              "          element.appendChild(docLink);\n",
              "        }\n",
              "      </script>\n",
              "    </div>\n",
              "  </div>\n",
              "  "
            ]
          },
          "metadata": {},
          "execution_count": 79
        }
      ]
    },
    {
      "cell_type": "code",
      "source": [
        "# Comprobamos que no hay nulos\n",
        "h3.isnull().values.any()"
      ],
      "metadata": {
        "colab": {
          "base_uri": "https://localhost:8080/"
        },
        "id": "VsWdjzD8fqP7",
        "outputId": "c1f176c7-684f-4cf3-fb7b-45871c5d15f6"
      },
      "execution_count": null,
      "outputs": [
        {
          "output_type": "execute_result",
          "data": {
            "text/plain": [
              "False"
            ]
          },
          "metadata": {},
          "execution_count": 55
        }
      ]
    },
    {
      "cell_type": "markdown",
      "source": [
        "Procedemos a descargar la tarjeta de datos para las hipótesis 3 y 4 generadas en este apartado."
      ],
      "metadata": {
        "id": "LJWc4NCY-zef"
      }
    },
    {
      "cell_type": "code",
      "source": [
        "h3.to_csv('tarjeta_datos_3_4.csv', sep = ';', index=False)\n",
        "\n",
        "files.download('tarjeta_datos_3_4.csv')"
      ],
      "metadata": {
        "id": "UW4qRN9w-tMN"
      },
      "execution_count": null,
      "outputs": []
    }
  ]
}